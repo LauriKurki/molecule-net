{
 "cells": [
  {
   "cell_type": "code",
   "execution_count": 2,
   "metadata": {},
   "outputs": [],
   "source": [
    "import os\n",
    "\n",
    "import pandas as pd\n",
    "import matplotlib.pyplot as plt\n",
    "import seaborn as sns\n",
    "\n",
    "from ase import io\n",
    "\n",
    "from analyses.molecule_analysis import ase_to_rdkit_molecules, check_molecule_validity"
   ]
  },
  {
   "cell_type": "code",
   "execution_count": 27,
   "metadata": {},
   "outputs": [],
   "source": [
    "models = [\"z10_0.1\", \"z10_0.3\", \"z10_0.5\", \"z10_0.7\", \"z20_0.3\"]\n",
    "paths_to_analyse = {\n",
    "    \"z10_0.1\": \"/u/79/kurkil1/unix/work/molnet/runs/bf16-augs-rebias-adam-3e-4-z10-reverse-z/ase_0.1\",\n",
    "    \"z10_0.3\": \"/u/79/kurkil1/unix/work/molnet/runs/bf16-augs-rebias-adam-3e-4-z10-reverse-z/ase_0.3\",\n",
    "    \"z10_0.5\": \"/u/79/kurkil1/unix/work/molnet/runs/bf16-augs-rebias-adam-3e-4-z10-reverse-z/ase_0.5\",\n",
    "    \"z10_0.7\": \"/u/79/kurkil1/unix/work/molnet/runs/bf16-augs-rebias-adam-3e-4-z10-reverse-z/ase_0.7\",\n",
    "    #\"z20_0.3\": \"/u/79/kurkil1/unix/work/molnet/runs/bf16-augs-rebias-adam-3e-4-z20-interp/ase_0.3\",\n",
    "}\n",
    "# Check that all paths exist\n",
    "for path in paths_to_analyse.values():\n",
    "    if not os.path.exists(path):\n",
    "        raise FileNotFoundError(f\"Path {path} does not exist\")"
   ]
  },
  {
   "cell_type": "markdown",
   "metadata": {},
   "source": [
    "Predicted, target, and full molecules:"
   ]
  },
  {
   "cell_type": "code",
   "execution_count": 28,
   "metadata": {},
   "outputs": [],
   "source": [
    "pred_mols = {\n",
    "    m: ase_to_rdkit_molecules(\n",
    "        io.read(os.path.join(pred_path, \"pred.xyz\"), index=\":\")\n",
    "    ) for m, pred_path in paths_to_analyse.items()\n",
    "}\n",
    "target_mols = {\n",
    "    m: ase_to_rdkit_molecules(\n",
    "        io.read(os.path.join(pred_path, \"target.xyz\"), index=\":\")\n",
    "    ) for m, pred_path in paths_to_analyse.items()\n",
    "}\n",
    "#full_mols = {\n",
    "#    m: ase_to_rdkit_molecules(\n",
    "#        io.read(os.path.join(pred_path, \"full.xyz\"), index=\":\")\n",
    "#    ) for m, pred_path in paths_to_analyse.items()\n",
    "#}"
   ]
  },
  {
   "cell_type": "markdown",
   "metadata": {},
   "source": [
    "Check validity:"
   ]
  },
  {
   "cell_type": "code",
   "execution_count": 29,
   "metadata": {},
   "outputs": [
    {
     "name": "stderr",
     "output_type": "stream",
     "text": [
      "[18:10:02] Explicit valence for atom # 12 C, 4, is greater than permitted\n",
      "[18:10:02] Explicit valence for atom # 3 C, 4, is greater than permitted\n",
      "[18:10:02] Explicit valence for atom # 16 C, 4, is greater than permitted\n",
      "[18:10:02] Explicit valence for atom # 5 C, 4, is greater than permitted\n",
      "[18:10:02] Explicit valence for atom # 12 C, 4, is greater than permitted\n",
      "[18:10:02] Explicit valence for atom # 4 C, 4, is greater than permitted\n",
      "[18:10:03] Explicit valence for atom # 15 C, 4, is greater than permitted\n",
      "[18:10:03] Explicit valence for atom # 17 C, 4, is greater than permitted\n",
      "[18:10:03] Explicit valence for atom # 9 C, 4, is greater than permitted\n",
      "[18:10:03] Explicit valence for atom # 14 C, 4, is greater than permitted\n",
      "[18:10:03] Explicit valence for atom # 8 C, 4, is greater than permitted\n",
      "[18:10:03] Explicit valence for atom # 4 C, 4, is greater than permitted\n",
      "[18:10:03] Explicit valence for atom # 11 C, 4, is greater than permitted\n",
      "[18:10:03] Explicit valence for atom # 6 C, 4, is greater than permitted\n",
      "[18:10:03] Explicit valence for atom # 11 C, 4, is greater than permitted\n",
      "[18:10:03] Explicit valence for atom # 7 C, 4, is greater than permitted\n",
      "[18:10:03] Explicit valence for atom # 18 C, 4, is greater than permitted\n",
      "[18:10:03] Explicit valence for atom # 6 C, 4, is greater than permitted\n",
      "[18:10:03] Explicit valence for atom # 11 C, 4, is greater than permitted\n",
      "[18:10:03] Explicit valence for atom # 14 C, 4, is greater than permitted\n",
      "[18:10:03] Explicit valence for atom # 9 C, 4, is greater than permitted\n",
      "[18:10:03] Explicit valence for atom # 14 C, 4, is greater than permitted\n",
      "[18:10:03] Explicit valence for atom # 4 C, 4, is greater than permitted\n",
      "[18:10:03] Explicit valence for atom # 21 C, 4, is greater than permitted\n",
      "[18:10:03] Explicit valence for atom # 17 C, 4, is greater than permitted\n",
      "[18:10:03] Explicit valence for atom # 16 C, 4, is greater than permitted\n",
      "[18:10:03] Explicit valence for atom # 10 C, 4, is greater than permitted\n",
      "[18:10:03] Explicit valence for atom # 24 C, 4, is greater than permitted\n",
      "[18:10:03] Explicit valence for atom # 15 C, 4, is greater than permitted\n",
      "[18:10:03] Explicit valence for atom # 5 C, 4, is greater than permitted\n",
      "[18:10:04] Explicit valence for atom # 9 C, 4, is greater than permitted\n",
      "[18:10:04] Explicit valence for atom # 14 C, 4, is greater than permitted\n",
      "[18:10:04] Explicit valence for atom # 6 C, 4, is greater than permitted\n",
      "[18:10:04] Explicit valence for atom # 15 C, 4, is greater than permitted\n"
     ]
    }
   ],
   "source": [
    "valid_pred_mols = {\n",
    "    m: [mol for mol in mols if check_molecule_validity(mol)] for m, mols in pred_mols.items()\n",
    "}\n",
    "valid_target_mols = {\n",
    "    m: [mol for mol in mols if check_molecule_validity(mol)] for m, mols in target_mols.items()\n",
    "}\n",
    "#valid_full_mols = {\n",
    "#    m: [mol for mol in mols if check_molecule_validity(mol)] for m, mols in full_mols.items()\n",
    "#}"
   ]
  },
  {
   "cell_type": "markdown",
   "metadata": {},
   "source": [
    "Save to DataFrame:"
   ]
  },
  {
   "cell_type": "code",
   "execution_count": 30,
   "metadata": {},
   "outputs": [
    {
     "name": "stderr",
     "output_type": "stream",
     "text": [
      "/tmp/ipykernel_1135372/1913941534.py:4: FutureWarning: The behavior of DataFrame concatenation with empty or all-NA entries is deprecated. In a future version, this will no longer exclude empty or all-NA columns when determining the result dtypes. To retain the old behavior, exclude the relevant entries before the concat operation.\n",
      "  val_df = pd.concat(\n"
     ]
    }
   ],
   "source": [
    "val_df = pd.DataFrame(columns=[\"model\", \"set\", \"validity\"])\n",
    "for model, mols in valid_pred_mols.items():\n",
    "    val_fraction = len(mols) / len(pred_mols[model])\n",
    "    val_df = pd.concat(\n",
    "        [\n",
    "            val_df,\n",
    "            pd.DataFrame.from_records(\n",
    "                [{\"model\": model, \"set\": \"pred\", \"validity\": val_fraction}]\n",
    "            )\n",
    "        ],\n",
    "        ignore_index=True\n",
    "    )\n",
    "\n",
    "for model, mols in valid_target_mols.items():\n",
    "    val_fraction = len(mols) / len(target_mols[model])\n",
    "    val_df = pd.concat(\n",
    "        [\n",
    "            val_df,\n",
    "            pd.DataFrame.from_records(\n",
    "                [{\"model\": model, \"set\": \"target\", \"validity\": val_fraction}]\n",
    "            )\n",
    "        ],\n",
    "        ignore_index=True\n",
    "    )\n",
    "\n",
    "#for model, mols in valid_full_mols.items():\n",
    "#    val_fraction = len(mols) / len(full_mols[model])\n",
    "#    val_df = pd.concat(\n",
    "#        [\n",
    "#            val_df,\n",
    "#            pd.DataFrame.from_records(\n",
    "#                [{\"model\": model, \"set\": \"full\", \"validity\": val_fraction}]\n",
    "#            )\n",
    "#        ],\n",
    "#        ignore_index=True\n",
    "#    )"
   ]
  },
  {
   "cell_type": "code",
   "execution_count": 34,
   "metadata": {},
   "outputs": [
    {
     "data": {
      "text/plain": [
       "[Text(0, 0, '0.1'), Text(1, 0, '0.3'), Text(2, 0, '0.5'), Text(3, 0, '0.7')]"
      ]
     },
     "execution_count": 34,
     "metadata": {},
     "output_type": "execute_result"
    },
    {
     "data": {
      "image/png": "[encoded data removed]",
      "text/plain": [
       "<Figure size 640x480 with 1 Axes>"
      ]
     },
     "metadata": {},
     "output_type": "display_data"
    }
   ],
   "source": [
    "# plot the results as a barplot. order of the bars is \"full\", \"pred\", \"target\"\n",
    "ax = plt.subplot(111)\n",
    "sns.barplot(data=val_df, x=\"model\", y=\"validity\", hue=\"set\", hue_order=[\"pred\"], ax=ax)\n",
    "ax.set_ylim(0, 1)\n",
    "ax.set_ylabel(\"Fraction of valid molecules\")\n",
    "\n",
    "ax.set_xlabel(\"Peak threshold\")\n",
    "ax.set_xticks([0, 1, 2, 3])\n",
    "ax.set_xticklabels([\"0.1\", \"0.3\", \"0.5\", \"0.7\"])\n"
   ]
  },
  {
   "cell_type": "code",
   "execution_count": null,
   "metadata": {},
   "outputs": [],
   "source": []
  }
 ],
 "metadata": {
  "kernelspec": {
   "display_name": "tf-2.13",
   "language": "python",
   "name": "python3"
  },
  "language_info": {
   "codemirror_mode": {
    "name": "ipython",
    "version": 3
   },
   "file_extension": ".py",
   "mimetype": "text/x-python",
   "name": "python",
   "nbconvert_exporter": "python",
   "pygments_lexer": "ipython3",
   "version": "3.10.12"
  }
 },
 "nbformat": 4,
 "nbformat_minor": 2
}
