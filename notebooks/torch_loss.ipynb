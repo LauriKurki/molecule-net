{
 "cells": [
  {
   "cell_type": "code",
   "execution_count": 1,
   "metadata": {},
   "outputs": [],
   "source": [
    "import torch\n",
    "import torch.nn as nn"
   ]
  },
  {
   "cell_type": "code",
   "execution_count": 2,
   "metadata": {},
   "outputs": [],
   "source": [
    "x = torch.rand((10, 10))\n",
    "y = torch.rand((10, 10))"
   ]
  },
  {
   "cell_type": "code",
   "execution_count": 8,
   "metadata": {},
   "outputs": [
    {
     "name": "stdout",
     "output_type": "stream",
     "text": [
      "tensor([[1.2229e-01, 4.4141e-01, 1.2335e-01, 4.1846e-01, 1.0936e-01, 1.7686e-01,\n",
      "         3.2581e-03, 5.6168e-03, 1.8068e-02, 3.1198e-04],\n",
      "        [4.0692e-01, 1.0367e-02, 3.4936e-01, 1.4136e-03, 1.6573e-01, 3.4021e-01,\n",
      "         2.3546e-02, 7.4682e-01, 8.1060e-01, 3.7835e-03],\n",
      "        [5.5305e-01, 3.6687e-02, 2.8701e-02, 6.4640e-02, 1.6786e-02, 4.0247e-01,\n",
      "         4.8898e-01, 2.5205e-01, 7.5127e-01, 4.1759e-05],\n",
      "        [1.1997e-01, 9.0870e-02, 1.1193e-01, 8.5486e-01, 1.2114e-01, 3.0299e-01,\n",
      "         3.4100e-01, 1.8129e-01, 6.1921e-02, 6.2051e-02],\n",
      "        [1.0478e-01, 1.0055e-01, 2.8770e-02, 2.2914e-01, 7.1735e-03, 6.8736e-02,\n",
      "         7.5900e-03, 6.3238e-01, 3.1126e-03, 4.9000e-01],\n",
      "        [2.7464e-02, 4.1272e-01, 5.6218e-01, 5.0936e-02, 1.3308e-01, 1.0467e-01,\n",
      "         8.8950e-01, 1.3971e-01, 2.6252e-01, 1.4676e-02],\n",
      "        [9.5646e-02, 1.2197e-01, 7.7131e-02, 5.0979e-01, 2.1721e-01, 1.3656e-01,\n",
      "         7.4155e-02, 4.4315e-01, 1.3399e-01, 3.4207e-02],\n",
      "        [1.6035e-02, 1.0590e-01, 9.9416e-02, 2.0605e-01, 1.0184e-01, 7.7059e-02,\n",
      "         8.9410e-03, 1.8086e-01, 9.2716e-03, 3.8661e-02],\n",
      "        [1.9623e-01, 2.5625e-01, 3.7830e-02, 1.4982e-01, 2.7607e-01, 5.8447e-03,\n",
      "         4.2971e-01, 1.9896e-03, 2.5089e-02, 1.6332e-02],\n",
      "        [4.0524e-02, 5.0967e-03, 8.4026e-02, 2.0379e-01, 3.1884e-01, 2.3053e-01,\n",
      "         5.7941e-02, 3.4553e-01, 3.6347e-02, 1.2828e-01]])\n",
      "torch.Size([10, 10])\n"
     ]
    }
   ],
   "source": [
    "l = nn.MSELoss(reduction=\"none\")\n",
    "loss = l(x, y)\n",
    "\n",
    "print(loss)\n",
    "print(loss.shape)"
   ]
  },
  {
   "cell_type": "code",
   "execution_count": null,
   "metadata": {},
   "outputs": [],
   "source": []
  }
 ],
 "metadata": {
  "kernelspec": {
   "display_name": "molnet",
   "language": "python",
   "name": "python3"
  },
  "language_info": {
   "codemirror_mode": {
    "name": "ipython",
    "version": 3
   },
   "file_extension": ".py",
   "mimetype": "text/x-python",
   "name": "python",
   "nbconvert_exporter": "python",
   "pygments_lexer": "ipython3",
   "version": "3.12.6"
  }
 },
 "nbformat": 4,
 "nbformat_minor": 2
}
