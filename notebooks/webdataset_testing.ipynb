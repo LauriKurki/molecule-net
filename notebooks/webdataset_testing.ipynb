{
 "cells": [
  {
   "cell_type": "code",
   "execution_count": 11,
   "metadata": {},
   "outputs": [],
   "source": [
    "import os\n",
    "import numpy as np\n",
    "\n",
    "import webdataset as wds"
   ]
  },
  {
   "cell_type": "code",
   "execution_count": 12,
   "metadata": {},
   "outputs": [],
   "source": [
    "def generator(start, end):\n",
    "    for i in range(start, end):\n",
    "        key = start + i\n",
    "        sample = {\n",
    "            \"__key__\": f\"{key:08d}\",\n",
    "            \"data.npy\": np.random.randn(32, 32),\n",
    "            \"label.npy\": np.random.randint(0, 10, size=(100,))\n",
    "        }\n",
    "        yield sample"
   ]
  },
  {
   "cell_type": "code",
   "execution_count": 13,
   "metadata": {},
   "outputs": [],
   "source": [
    "args = [\n",
    "    (\"shards/0000.tar\", 0, 100),\n",
    "    (\"shards/0001.tar\", 100, 200),\n",
    "    (\"shards/0002.tar\", 200, 300),\n",
    "]\n",
    "\n",
    "os.makedirs(\"shards\", exist_ok=True)\n",
    "\n",
    "for arg in args:\n",
    "    gen = generator(arg[1], arg[2])\n",
    "    with wds.TarWriter(arg[0]) as sink:\n",
    "        for sample in gen:\n",
    "            sink.write(sample)"
   ]
  },
  {
   "cell_type": "code",
   "execution_count": 69,
   "metadata": {},
   "outputs": [],
   "source": [
    "path = \"shards\"\n",
    "files = [f\"{path}/{f}\" for f in os.listdir(path) if f.endswith(\".tar\")]\n",
    "\n",
    "dataset = wds.WebDataset(\n",
    "    files,\n",
    "    resampled=True,\n",
    "    shardshuffle=True,\n",
    ")"
   ]
  },
  {
   "cell_type": "code",
   "execution_count": 70,
   "metadata": {},
   "outputs": [],
   "source": [
    "def make_sample(sample):\n",
    "    return {\n",
    "        \"x\": sample[\"data.npy\"],\n",
    "        \"y\": sample[\"label.npy\"]\n",
    "    }"
   ]
  },
  {
   "cell_type": "code",
   "execution_count": 73,
   "metadata": {},
   "outputs": [
    {
     "ename": "AttributeError",
     "evalue": "'DataPipeline' object has no attribute 'map'",
     "output_type": "error",
     "traceback": [
      "\u001b[0;31m---------------------------------------------------------------------------\u001b[0m",
      "\u001b[0;31mAttributeError\u001b[0m                            Traceback (most recent call last)",
      "Cell \u001b[0;32mIn[73], line 1\u001b[0m\n\u001b[0;32m----> 1\u001b[0m trainset \u001b[38;5;241m=\u001b[39m \u001b[43mdataset\u001b[49m\u001b[38;5;241;43m.\u001b[39;49m\u001b[43mmap\u001b[49m(make_sample)\n",
      "\u001b[0;31mAttributeError\u001b[0m: 'DataPipeline' object has no attribute 'map'"
     ]
    }
   ],
   "source": [
    "trainset = dataset.map(make_sample)"
   ]
  },
  {
   "cell_type": "code",
   "execution_count": null,
   "metadata": {},
   "outputs": [],
   "source": []
  }
 ],
 "metadata": {
  "kernelspec": {
   "display_name": "molnet",
   "language": "python",
   "name": "python3"
  },
  "language_info": {
   "codemirror_mode": {
    "name": "ipython",
    "version": 3
   },
   "file_extension": ".py",
   "mimetype": "text/x-python",
   "name": "python",
   "nbconvert_exporter": "python",
   "pygments_lexer": "ipython3",
   "version": "3.10.12"
  }
 },
 "nbformat": 4,
 "nbformat_minor": 2
}
