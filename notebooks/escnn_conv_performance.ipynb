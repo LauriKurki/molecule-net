{
 "cells": [
  {
   "cell_type": "code",
   "execution_count": 227,
   "metadata": {},
   "outputs": [],
   "source": [
    "import time\n",
    "import numpy as np  \n",
    "\n",
    "import torch\n",
    "import torch.nn as nn\n",
    "\n",
    "from escnn import gspaces\n",
    "import escnn.nn as enn\n",
    "\n",
    "from molnet import escnn_models\n",
    "\n",
    "device = \"cpu\""
   ]
  },
  {
   "cell_type": "code",
   "execution_count": 233,
   "metadata": {},
   "outputs": [],
   "source": [
    "x = torch.randn(4, 8, 128, 128, 10, device=device)"
   ]
  },
  {
   "cell_type": "code",
   "execution_count": 234,
   "metadata": {},
   "outputs": [
    {
     "data": {
      "text/plain": [
       "Sequential(\n",
       "  (0): Conv3d(8, 8, kernel_size=(3, 3, 3), stride=(1, 1, 1), padding=(1, 1, 1))\n",
       "  (1): BatchNorm3d(8, eps=1e-05, momentum=0.1, affine=True, track_running_stats=True)\n",
       "  (2): MaxPool3d(kernel_size=2, stride=2, padding=0, dilation=1, ceil_mode=False)\n",
       ")"
      ]
     },
     "execution_count": 234,
     "metadata": {},
     "output_type": "execute_result"
    }
   ],
   "source": [
    "torch_model = nn.Sequential(\n",
    "    nn.Conv3d(8, 8, 3, padding=1),\n",
    "    nn.BatchNorm3d(8),\n",
    "    nn.MaxPool3d(2),\n",
    ")\n",
    "torch_model.to(device)"
   ]
  },
  {
   "cell_type": "code",
   "execution_count": 235,
   "metadata": {},
   "outputs": [
    {
     "data": {
      "text/plain": [
       "SequentialModule(\n",
       "  (0): R3Conv([C4_on_R3[(False, False, 4)]: {regular (x2)}(8)], [C4_on_R3[(False, False, 4)]: {regular (x2)}(8)], kernel_size=3, stride=1)\n",
       "  (1): InnerBatchNorm3D([C4_on_R3[(False, False, 4)]: {regular (x2)}(8)], eps=1e-05, momentum=0.1, affine=True, track_running_stats=True)\n",
       "  (2): NormMaxPool3D()\n",
       ")"
      ]
     },
     "execution_count": 235,
     "metadata": {},
     "output_type": "execute_result"
    }
   ],
   "source": [
    "r2 = gspaces.rot2dOnR3(4)\n",
    "in_type = enn.FieldType(r2, 2*[r2.regular_repr])\n",
    "out_type = enn.FieldType(r2, 2*[r2.regular_repr])\n",
    "\n",
    "escnn_conv = enn.R3Conv(\n",
    "    in_type,\n",
    "    out_type=out_type,\n",
    "    kernel_size=3\n",
    ")\n",
    "escnn_bnorm = escnn_models.InnerBatchNorm3D(out_type)\n",
    "\n",
    "escnn_model = enn.SequentialModule(\n",
    "    escnn_conv,\n",
    "    #enn.GNormBatchNorm(out_type),\n",
    "    #enn.IIDBatchNorm3d(out_type),\n",
    "    #enn.InnerBatchNorm(out_type),\n",
    "    escnn_bnorm,\n",
    "    escnn_models.NormMaxPool3D(out_type, kernel_size=2),\n",
    ")\n",
    "\n",
    "escnn_model.to(device)"
   ]
  },
  {
   "cell_type": "code",
   "execution_count": 236,
   "metadata": {},
   "outputs": [
    {
     "name": "stdout",
     "output_type": "stream",
     "text": [
      "torch:\n",
      "  average time: 135.407 ms\n"
     ]
    }
   ],
   "source": [
    "N = 50\n",
    "t0 = time.perf_counter()\n",
    "torch_model.train()\n",
    "for i in range(N):\n",
    "    y = torch_model(x)\n",
    "    if i < 5:\n",
    "        continue\n",
    "t1 = time.perf_counter()\n",
    "\n",
    "total_time = t1-t0\n",
    "avg_time = total_time / (N-5)\n",
    "\n",
    "print(f\"torch:\")\n",
    "print(f\"  average time: {avg_time*1000:.3f} ms\")"
   ]
  },
  {
   "cell_type": "code",
   "execution_count": 237,
   "metadata": {},
   "outputs": [
    {
     "name": "stdout",
     "output_type": "stream",
     "text": [
      "escnn:\n",
      "  average time: 70.955 ms\n"
     ]
    }
   ],
   "source": [
    "t0 = time.perf_counter()\n",
    "in_x = in_type(x)\n",
    "for i in range(N):\n",
    "    y = escnn_model(in_x)\n",
    "    \n",
    "    if i < 5:\n",
    "        continue\n",
    "\n",
    "t1 = time.perf_counter()\n",
    "total_time = t1-t0\n",
    "avg_time = total_time / (N-5)\n",
    "\n",
    "print(f\"escnn:\")\n",
    "print(f\"  average time: {avg_time*1000:.3f} ms\")\n"
   ]
  },
  {
   "cell_type": "code",
   "execution_count": 240,
   "metadata": {},
   "outputs": [
    {
     "name": "stdout",
     "output_type": "stream",
     "text": [
      "escnn:\n",
      "  average time: 62.276 ms\n",
      "  std: 5.117 ms\n",
      "  min: 56.660 ms\n",
      "  max: 83.949 ms\n"
     ]
    }
   ],
   "source": [
    "times = []\n",
    "in_x = in_type(x)\n",
    "for i in range(N):\n",
    "    t0 = time.perf_counter()\n",
    "    y = escnn_model(in_x)\n",
    "    t1 = time.perf_counter()\n",
    "    \n",
    "    if i < 5:\n",
    "        continue\n",
    "\n",
    "    times.append(t1-t0)\n",
    "\n",
    "print(f\"escnn:\")\n",
    "print(f\"  average time: {np.mean(times)*1000:.3f} ms\")\n",
    "print(f\"  std: {np.std(times)*1000:.3f} ms\")\n",
    "print(f\"  min: {np.min(times)*1000:.3f} ms\")\n",
    "print(f\"  max: {np.max(times)*1000:.3f} ms\")\n"
   ]
  },
  {
   "cell_type": "code",
   "execution_count": 241,
   "metadata": {},
   "outputs": [
    {
     "name": "stdout",
     "output_type": "stream",
     "text": [
      "---------------------------------  ------------  ------------  ------------  ------------  ------------  ------------  \n",
      "                             Name    Self CPU %      Self CPU   CPU total %     CPU total  CPU time avg    # of Calls  \n",
      "---------------------------------  ------------  ------------  ------------  ------------  ------------  ------------  \n",
      "                     aten::conv3d         0.00%       4.666us        95.79%     138.735ms     138.735ms             1  \n",
      "                aten::convolution         0.02%      32.417us        95.79%     138.730ms     138.730ms             1  \n",
      "               aten::_convolution         0.01%      10.999us        95.76%     138.698ms     138.698ms             1  \n",
      "                aten::slow_conv3d         0.00%       5.751us        95.76%     138.687ms     138.687ms             1  \n",
      "        aten::slow_conv3d_forward        95.29%     138.011ms        95.75%     138.681ms     138.681ms             1  \n",
      "                 aten::batch_norm         0.00%       2.375us         2.37%       3.432ms       3.432ms             1  \n",
      "     aten::_batch_norm_impl_index         0.00%       4.250us         2.37%       3.430ms       3.430ms             1  \n",
      "          aten::native_batch_norm         2.36%       3.419ms         2.36%       3.424ms       3.424ms             1  \n",
      "                 aten::max_pool3d         0.00%       2.250us         1.83%       2.658ms       2.658ms             1  \n",
      "    aten::max_pool3d_with_indices         1.83%       2.651ms         1.83%       2.655ms       2.655ms             1  \n",
      "---------------------------------  ------------  ------------  ------------  ------------  ------------  ------------  \n",
      "Self CPU time total: 144.834ms\n",
      "\n"
     ]
    }
   ],
   "source": [
    "torch_model.train()\n",
    "with torch.autograd.profiler.profile(use_cpu=True) as prof:\n",
    "    y = torch_model(x)\n",
    "print(prof.key_averages().table(sort_by=\"cpu_time_total\", row_limit=10))"
   ]
  },
  {
   "cell_type": "code",
   "execution_count": 243,
   "metadata": {},
   "outputs": [
    {
     "name": "stdout",
     "output_type": "stream",
     "text": [
      "---------------------------------  ------------  ------------  ------------  ------------  ------------  ------------  \n",
      "                             Name    Self CPU %      Self CPU   CPU total %     CPU total  CPU time avg    # of Calls  \n",
      "---------------------------------  ------------  ------------  ------------  ------------  ------------  ------------  \n",
      "                     aten::conv3d         0.00%       3.916us        91.77%      91.941ms      91.941ms             1  \n",
      "                aten::convolution         0.01%      11.417us        91.76%      91.937ms      91.937ms             1  \n",
      "               aten::_convolution         0.01%       8.416us        91.75%      91.925ms      91.925ms             1  \n",
      "                aten::slow_conv3d         0.01%       8.083us        91.74%      91.917ms      91.917ms             1  \n",
      "        aten::slow_conv3d_forward        91.46%      91.631ms        91.74%      91.909ms      91.909ms             1  \n",
      "                 aten::batch_norm         0.00%       2.500us         4.76%       4.766ms       4.766ms             1  \n",
      "     aten::_batch_norm_impl_index         0.00%       4.792us         4.75%       4.764ms       4.764ms             1  \n",
      "          aten::native_batch_norm         4.74%       4.752ms         4.75%       4.758ms       4.758ms             1  \n",
      "                      aten::copy_         1.21%       1.212ms         1.21%       1.212ms     242.382us             5  \n",
      "                        aten::pow         0.65%     654.663us         0.65%     655.663us     655.663us             1  \n",
      "---------------------------------  ------------  ------------  ------------  ------------  ------------  ------------  \n",
      "Self CPU time total: 100.187ms\n",
      "\n"
     ]
    }
   ],
   "source": [
    "escnn_model.train()\n",
    "with torch.autograd.profiler.profile(use_cpu=True) as prof:\n",
    "    y = escnn_model(in_type(x))\n",
    "print(prof.key_averages().table(sort_by=\"cpu_time_total\", row_limit=10))"
   ]
  }
 ],
 "metadata": {
  "kernelspec": {
   "display_name": "molnet",
   "language": "python",
   "name": "python3"
  },
  "language_info": {
   "codemirror_mode": {
    "name": "ipython",
    "version": 3
   },
   "file_extension": ".py",
   "mimetype": "text/x-python",
   "name": "python",
   "nbconvert_exporter": "python",
   "pygments_lexer": "ipython3",
   "version": "3.12.6"
  }
 },
 "nbformat": 4,
 "nbformat_minor": 2
}
