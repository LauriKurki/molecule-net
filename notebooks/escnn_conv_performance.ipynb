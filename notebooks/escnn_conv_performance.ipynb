{
 "cells": [
  {
   "cell_type": "code",
   "execution_count": 48,
   "metadata": {},
   "outputs": [],
   "source": [
    "import time\n",
    "import numpy as np  \n",
    "\n",
    "import torch\n",
    "import torch.nn as nn\n",
    "\n",
    "from escnn import gspaces\n",
    "import escnn.nn as enn\n",
    "\n",
    "from molnet.escnn_models import InnerBatchNorm3D"
   ]
  },
  {
   "cell_type": "code",
   "execution_count": 57,
   "metadata": {},
   "outputs": [
    {
     "ename": "RuntimeError",
     "evalue": "Found no NVIDIA driver on your system. Please check that you have an NVIDIA GPU and installed a driver from http://www.nvidia.com/Download/index.aspx",
     "output_type": "error",
     "traceback": [
      "\u001b[0;31m---------------------------------------------------------------------------\u001b[0m",
      "\u001b[0;31mRuntimeError\u001b[0m                              Traceback (most recent call last)",
      "Cell \u001b[0;32mIn[57], line 1\u001b[0m\n\u001b[0;32m----> 1\u001b[0m x \u001b[38;5;241m=\u001b[39m \u001b[43mtorch\u001b[49m\u001b[38;5;241;43m.\u001b[39;49m\u001b[43mrandn\u001b[49m\u001b[43m(\u001b[49m\u001b[38;5;241;43m4\u001b[39;49m\u001b[43m,\u001b[49m\u001b[43m \u001b[49m\u001b[38;5;241;43m8\u001b[39;49m\u001b[43m,\u001b[49m\u001b[43m \u001b[49m\u001b[38;5;241;43m64\u001b[39;49m\u001b[43m,\u001b[49m\u001b[43m \u001b[49m\u001b[38;5;241;43m64\u001b[39;49m\u001b[43m,\u001b[49m\u001b[43m \u001b[49m\u001b[38;5;241;43m10\u001b[39;49m\u001b[43m,\u001b[49m\u001b[43m \u001b[49m\u001b[43mdevice\u001b[49m\u001b[38;5;241;43m=\u001b[39;49m\u001b[38;5;124;43m'\u001b[39;49m\u001b[38;5;124;43mcuda\u001b[39;49m\u001b[38;5;124;43m'\u001b[39;49m\u001b[43m)\u001b[49m\n",
      "File \u001b[0;32m~/.venvs/molnet-torch/lib/python3.10/site-packages/torch/cuda/__init__.py:319\u001b[0m, in \u001b[0;36m_lazy_init\u001b[0;34m()\u001b[0m\n\u001b[1;32m    317\u001b[0m \u001b[38;5;28;01mif\u001b[39;00m \u001b[38;5;124m\"\u001b[39m\u001b[38;5;124mCUDA_MODULE_LOADING\u001b[39m\u001b[38;5;124m\"\u001b[39m \u001b[38;5;129;01mnot\u001b[39;00m \u001b[38;5;129;01min\u001b[39;00m os\u001b[38;5;241m.\u001b[39menviron:\n\u001b[1;32m    318\u001b[0m     os\u001b[38;5;241m.\u001b[39menviron[\u001b[38;5;124m\"\u001b[39m\u001b[38;5;124mCUDA_MODULE_LOADING\u001b[39m\u001b[38;5;124m\"\u001b[39m] \u001b[38;5;241m=\u001b[39m \u001b[38;5;124m\"\u001b[39m\u001b[38;5;124mLAZY\u001b[39m\u001b[38;5;124m\"\u001b[39m\n\u001b[0;32m--> 319\u001b[0m \u001b[43mtorch\u001b[49m\u001b[38;5;241;43m.\u001b[39;49m\u001b[43m_C\u001b[49m\u001b[38;5;241;43m.\u001b[39;49m\u001b[43m_cuda_init\u001b[49m\u001b[43m(\u001b[49m\u001b[43m)\u001b[49m\n\u001b[1;32m    320\u001b[0m \u001b[38;5;66;03m# Some of the queued calls may reentrantly call _lazy_init();\u001b[39;00m\n\u001b[1;32m    321\u001b[0m \u001b[38;5;66;03m# we need to just return without initializing in that case.\u001b[39;00m\n\u001b[1;32m    322\u001b[0m \u001b[38;5;66;03m# However, we must not let any *other* threads in!\u001b[39;00m\n\u001b[1;32m    323\u001b[0m _tls\u001b[38;5;241m.\u001b[39mis_initializing \u001b[38;5;241m=\u001b[39m \u001b[38;5;28;01mTrue\u001b[39;00m\n",
      "\u001b[0;31mRuntimeError\u001b[0m: Found no NVIDIA driver on your system. Please check that you have an NVIDIA GPU and installed a driver from http://www.nvidia.com/Download/index.aspx"
     ]
    }
   ],
   "source": [
    "x = torch.randn(4, 8, 64, 64, 10, device='cuda')"
   ]
  },
  {
   "cell_type": "code",
   "execution_count": 53,
   "metadata": {},
   "outputs": [],
   "source": [
    "torch_conv = nn.Conv3d(8, 8, 3, padding=1)\n",
    "torch_bnorm = nn.BatchNorm3d(8)"
   ]
  },
  {
   "cell_type": "code",
   "execution_count": 54,
   "metadata": {},
   "outputs": [],
   "source": [
    "\n",
    "r2 = gspaces.rot2dOnR3(4)\n",
    "in_type = enn.FieldType(r2, 2*[r2.regular_repr])\n",
    "out_type = enn.FieldType(r2, 2*[r2.regular_repr])\n",
    "\n",
    "escnn_conv = enn.R3Conv(\n",
    "    in_type,\n",
    "    out_type=out_type,\n",
    "    kernel_size=3\n",
    ")\n",
    "escnn_bnorm = InnerBatchNorm3D(out_type)"
   ]
  },
  {
   "cell_type": "code",
   "execution_count": 55,
   "metadata": {},
   "outputs": [
    {
     "name": "stdout",
     "output_type": "stream",
     "text": [
      "torch:\n",
      "  mean: 0.003171\n",
      "  std: 0.000883\n",
      "  min: 0.002626\n",
      "  max: 0.008321\n"
     ]
    }
   ],
   "source": [
    "torch_times = []\n",
    "for i in range(50):\n",
    "    t0 = time.perf_counter()\n",
    "    y = torch_conv(x)\n",
    "    y = torch_bnorm(y)\n",
    "    t1 = time.perf_counter()\n",
    "    if i < 5:\n",
    "        continue\n",
    "    torch_times.append(t1 - t0)\n",
    "\n",
    "\n",
    "print(f\"torch:\")\n",
    "print(f\"  mean: {np.mean(torch_times):.6f}\")\n",
    "print(f\"  std: {np.std(torch_times):.6f}\")\n",
    "print(f\"  min: {np.min(torch_times):.6f}\")\n",
    "print(f\"  max: {np.max(torch_times):.6f}\")\n"
   ]
  },
  {
   "cell_type": "code",
   "execution_count": 56,
   "metadata": {},
   "outputs": [
    {
     "name": "stdout",
     "output_type": "stream",
     "text": [
      "escnn:\n",
      "  mean: 0.004503\n",
      "  std: 0.000767\n",
      "  min: 0.003741\n",
      "  max: 0.007124\n"
     ]
    }
   ],
   "source": [
    "escnn_times = []\n",
    "for i in range(50):\n",
    "    t0 = time.perf_counter()\n",
    "    \n",
    "    y = escnn_conv(in_type(x))\n",
    "    y = escnn_bnorm(y)\n",
    "    \n",
    "    t1 = time.perf_counter()\n",
    "    if i < 5:\n",
    "        continue\n",
    "    escnn_times.append(t1 - t0)\n",
    "\n",
    "print(f\"escnn:\")\n",
    "print(f\"  mean: {np.mean(escnn_times):.6f}\")\n",
    "print(f\"  std: {np.std(escnn_times):.6f}\")\n",
    "print(f\"  min: {np.min(escnn_times):.6f}\")\n",
    "print(f\"  max: {np.max(escnn_times):.6f}\")"
   ]
  },
  {
   "cell_type": "code",
   "execution_count": null,
   "metadata": {},
   "outputs": [],
   "source": []
  },
  {
   "cell_type": "code",
   "execution_count": null,
   "metadata": {},
   "outputs": [],
   "source": []
  }
 ],
 "metadata": {
  "kernelspec": {
   "display_name": "molnet-torch",
   "language": "python",
   "name": "python3"
  },
  "language_info": {
   "codemirror_mode": {
    "name": "ipython",
    "version": 3
   },
   "file_extension": ".py",
   "mimetype": "text/x-python",
   "name": "python",
   "nbconvert_exporter": "python",
   "pygments_lexer": "ipython3",
   "version": "3.10.12"
  }
 },
 "nbformat": 4,
 "nbformat_minor": 2
}
