{
 "cells": [
  {
   "cell_type": "code",
   "execution_count": 14,
   "metadata": {},
   "outputs": [],
   "source": [
    "import time\n",
    "import numpy as np  \n",
    "\n",
    "import torch\n",
    "import torch.nn as nn\n",
    "\n",
    "from escnn import gspaces\n",
    "import escnn.nn as enn\n",
    "\n",
    "from molnet.escnn_models import InnerBatchNorm3D\n",
    "\n",
    "device = \"mps\""
   ]
  },
  {
   "cell_type": "code",
   "execution_count": 15,
   "metadata": {},
   "outputs": [],
   "source": [
    "x = torch.randn(4, 8, 64, 64, 10, device=device)"
   ]
  },
  {
   "cell_type": "code",
   "execution_count": 16,
   "metadata": {},
   "outputs": [
    {
     "data": {
      "text/plain": [
       "Sequential(\n",
       "  (0): Conv3d(8, 8, kernel_size=(3, 3, 3), stride=(1, 1, 1), padding=(1, 1, 1))\n",
       "  (1): BatchNorm3d(8, eps=1e-05, momentum=0.1, affine=True, track_running_stats=True)\n",
       ")"
      ]
     },
     "execution_count": 16,
     "metadata": {},
     "output_type": "execute_result"
    }
   ],
   "source": [
    "torch_model = nn.Sequential(\n",
    "    nn.Conv3d(8, 8, 3, padding=1),\n",
    "    nn.BatchNorm3d(8)\n",
    ")\n",
    "torch_model.to(device)"
   ]
  },
  {
   "cell_type": "code",
   "execution_count": 20,
   "metadata": {},
   "outputs": [
    {
     "data": {
      "text/plain": [
       "SequentialModule(\n",
       "  (0): R3Conv([C4_on_R3[(False, False, 4)]: {regular (x2)}(8)], [C4_on_R3[(False, False, 4)]: {regular (x8)}(32)], kernel_size=3, stride=1)\n",
       "  (1): InnerBatchNorm3D([C4_on_R3[(False, False, 4)]: {regular (x8)}(32)], eps=1e-05, momentum=0.1, affine=True, track_running_stats=True)\n",
       ")"
      ]
     },
     "execution_count": 20,
     "metadata": {},
     "output_type": "execute_result"
    }
   ],
   "source": [
    "r2 = gspaces.rot2dOnR3(4)\n",
    "in_type = enn.FieldType(r2, 2*[r2.regular_repr])\n",
    "out_type = enn.FieldType(r2, 8*[r2.regular_repr])\n",
    "\n",
    "escnn_conv = enn.R3Conv(\n",
    "    in_type,\n",
    "    out_type=out_type,\n",
    "    kernel_size=3\n",
    ")\n",
    "escnn_bnorm = InnerBatchNorm3D(out_type)\n",
    "\n",
    "escnn_model = enn.SequentialModule(\n",
    "    escnn_conv,\n",
    "    escnn_bnorm\n",
    ")\n",
    "\n",
    "escnn_model.to(device)"
   ]
  },
  {
   "cell_type": "code",
   "execution_count": 21,
   "metadata": {},
   "outputs": [
    {
     "name": "stdout",
     "output_type": "stream",
     "text": [
      "torch:\n",
      "  mean: 0.000427\n",
      "  std: 0.000190\n",
      "  min: 0.000288\n",
      "  max: 0.001267\n"
     ]
    }
   ],
   "source": [
    "torch_times = []\n",
    "for i in range(50):\n",
    "    t0 = time.perf_counter()\n",
    "    y = torch_model(x)\n",
    "    t1 = time.perf_counter()\n",
    "    if i < 5:\n",
    "        continue\n",
    "    torch_times.append(t1 - t0)\n",
    "\n",
    "\n",
    "print(f\"torch:\")\n",
    "print(f\"  mean: {np.mean(torch_times):.6f}\")\n",
    "print(f\"  std: {np.std(torch_times):.6f}\")\n",
    "print(f\"  min: {np.min(torch_times):.6f}\")\n",
    "print(f\"  max: {np.max(torch_times):.6f}\")\n"
   ]
  },
  {
   "cell_type": "code",
   "execution_count": 22,
   "metadata": {},
   "outputs": [
    {
     "name": "stdout",
     "output_type": "stream",
     "text": [
      "escnn:\n",
      "  mean: 0.007273\n",
      "  std: 0.001097\n",
      "  min: 0.006110\n",
      "  max: 0.009143\n"
     ]
    }
   ],
   "source": [
    "escnn_times = []\n",
    "for i in range(50):\n",
    "    t0 = time.perf_counter()\n",
    "    \n",
    "    y = escnn_model(in_type(x))\n",
    "    \n",
    "    t1 = time.perf_counter()\n",
    "    if i < 5:\n",
    "        continue\n",
    "    escnn_times.append(t1 - t0)\n",
    "\n",
    "print(f\"escnn:\")\n",
    "print(f\"  mean: {np.mean(escnn_times):.6f}\")\n",
    "print(f\"  std: {np.std(escnn_times):.6f}\")\n",
    "print(f\"  min: {np.min(escnn_times):.6f}\")\n",
    "print(f\"  max: {np.max(escnn_times):.6f}\")"
   ]
  },
  {
   "cell_type": "code",
   "execution_count": null,
   "metadata": {},
   "outputs": [],
   "source": []
  },
  {
   "cell_type": "code",
   "execution_count": null,
   "metadata": {},
   "outputs": [],
   "source": []
  }
 ],
 "metadata": {
  "kernelspec": {
   "display_name": "molnet",
   "language": "python",
   "name": "python3"
  },
  "language_info": {
   "codemirror_mode": {
    "name": "ipython",
    "version": 3
   },
   "file_extension": ".py",
   "mimetype": "text/x-python",
   "name": "python",
   "nbconvert_exporter": "python",
   "pygments_lexer": "ipython3",
   "version": "3.12.6"
  }
 },
 "nbformat": 4,
 "nbformat_minor": 2
}
