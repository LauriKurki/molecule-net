{
 "cells": [
  {
   "cell_type": "code",
   "execution_count": 1,
   "metadata": {},
   "outputs": [],
   "source": [
    "import numpy as np"
   ]
  },
  {
   "cell_type": "code",
   "execution_count": 5,
   "metadata": {},
   "outputs": [],
   "source": [
    "fname = '/l/rotations_210611.pickle'\n",
    "rots = np.load(fname, allow_pickle=True)"
   ]
  },
  {
   "cell_type": "code",
   "execution_count": 10,
   "metadata": {},
   "outputs": [],
   "source": [
    "# \"rots\" is a dictionary with keys \"train\", \"val\", and \"test\"\n",
    "# Each key is associated with a list of dictionaries, one for each molecule id\n",
    "# Each molecule id's value is a list of np.ndarrays, one for each rotation\n",
    "\n",
    "def flatten_rotation_dictionary(rots):\n",
    "    rotations_flat = []\n",
    "    for split, molecules in rots.items():\n",
    "        for molecule_id in molecules:\n",
    "                rotations = molecules[molecule_id]\n",
    "                for rotation in rotations:\n",
    "                    rotations_flat.append((molecule_id, rotation))\n",
    "\n",
    "    return rotations_flat"
   ]
  },
  {
   "cell_type": "code",
   "execution_count": 11,
   "metadata": {},
   "outputs": [
    {
     "name": "stdout",
     "output_type": "stream",
     "text": [
      "total number of rotations: 235554\n"
     ]
    }
   ],
   "source": [
    "rotations_flat = flatten_rotation_dictionary(rots)\n",
    "\n",
    "print(f\"total number of rotations: {len(rotations_flat)}\")"
   ]
  }
 ],
 "metadata": {
  "kernelspec": {
   "display_name": "tf-2.13",
   "language": "python",
   "name": "python3"
  },
  "language_info": {
   "codemirror_mode": {
    "name": "ipython",
    "version": 3
   },
   "file_extension": ".py",
   "mimetype": "text/x-python",
   "name": "python",
   "nbconvert_exporter": "python",
   "pygments_lexer": "ipython3",
   "version": "3.10.12"
  }
 },
 "nbformat": 4,
 "nbformat_minor": 2
}
