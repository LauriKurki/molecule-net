{
 "cells": [
  {
   "cell_type": "code",
   "execution_count": 1,
   "metadata": {},
   "outputs": [],
   "source": [
    "import time\n",
    "\n",
    "import numpy as np"
   ]
  },
  {
   "cell_type": "code",
   "execution_count": 5,
   "metadata": {},
   "outputs": [],
   "source": [
    "x = np.linspace(0, 16, 128)\n",
    "y = np.linspace(0, 16, 128)\n",
    "z = np.arange(-2.0, 1e-9, 0.1)\n",
    "\n",
    "X, Y, Z = np.meshgrid(x, y, z)\n",
    "\n",
    "xyz = np.random.rand(32, 3)\n",
    "xyz[:, 0] *= 16\n",
    "xyz[:, 1] *= 16\n",
    "xyz[:, 2] = xyz[:, 2] * 2 - 2"
   ]
  },
  {
   "cell_type": "code",
   "execution_count": 10,
   "metadata": {},
   "outputs": [],
   "source": [
    "vectorize_times = []\n",
    "for i in range(100):\n",
    "    t0 = time.perf_counter()\n",
    "    maps = np.vectorize(\n",
    "        lambda atom: np.exp(\n",
    "            -((X - atom[0]) ** 2 + (Y - atom[1]) ** 2 + (Z - atom[2]) ** 2) / (2*0.2**2)\n",
    "        ),\n",
    "        signature='(a)->(q, w, e)',\n",
    "    )(xyz)\n",
    "    t1 = time.perf_counter()\n",
    "    vectorize_times.append(t1 - t0)"
   ]
  },
  {
   "cell_type": "code",
   "execution_count": 13,
   "metadata": {},
   "outputs": [],
   "source": [
    "loop_times = []\n",
    "for i in range(100):\n",
    "    t0 = time.perf_counter()\n",
    "    maps = np.zeros_like(X)\n",
    "    for atom in xyz:\n",
    "        maps += np.exp(-((X - atom[0]) ** 2 + (Y - atom[1]) ** 2 + (Z - atom[2]) ** 2) / (2*0.2**2))\n",
    "    t1 = time.perf_counter()\n",
    "    loop_times.append(t1 - t0)"
   ]
  },
  {
   "cell_type": "code",
   "execution_count": 14,
   "metadata": {},
   "outputs": [
    {
     "name": "stdout",
     "output_type": "stream",
     "text": [
      "vec times: 0.119 ± 0.001\n",
      "loop times: 0.108 ± 0.002\n"
     ]
    }
   ],
   "source": [
    "print(f\"vec times: {np.mean(vectorize_times):.3f} ± {np.std(vectorize_times):.3f}\")\n",
    "print(f\"loop times: {np.mean(loop_times):.3f} ± {np.std(loop_times):.3f}\")"
   ]
  }
 ],
 "metadata": {
  "kernelspec": {
   "display_name": "molnet",
   "language": "python",
   "name": "python3"
  },
  "language_info": {
   "codemirror_mode": {
    "name": "ipython",
    "version": 3
   },
   "file_extension": ".py",
   "mimetype": "text/x-python",
   "name": "python",
   "nbconvert_exporter": "python",
   "pygments_lexer": "ipython3",
   "version": "3.10.12"
  }
 },
 "nbformat": 4,
 "nbformat_minor": 2
}
