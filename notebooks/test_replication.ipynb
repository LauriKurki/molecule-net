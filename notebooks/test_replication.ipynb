{
 "cells": [
  {
   "cell_type": "code",
   "execution_count": 18,
   "metadata": {},
   "outputs": [],
   "source": [
    "import jax\n",
    "import jax.numpy as jnp\n",
    "\n",
    "import flax\n",
    "import flax.linen as nn\n",
    "import optax\n",
    "from clu import metrics\n",
    "\n",
    "\n",
    "from molnet import train_state"
   ]
  },
  {
   "cell_type": "code",
   "execution_count": 21,
   "metadata": {},
   "outputs": [],
   "source": [
    "class M(metrics.Collection):\n",
    "    l: metrics.Array"
   ]
  },
  {
   "cell_type": "code",
   "execution_count": 22,
   "metadata": {},
   "outputs": [],
   "source": [
    "class Foo(nn.Module):\n",
    "    train: bool\n",
    "    filters: int\n",
    "\n",
    "    @nn.compact\n",
    "    def __call__(self, x):\n",
    "        x = nn.Conv(self.filters, (1, 1), use_bias=False, dtype=jnp.float32)(x)\n",
    "        x = nn.BatchNorm(use_running_average=not self.train,\n",
    "                        momentum=0.9,\n",
    "                        epsilon=1e-5,\n",
    "                        dtype=jnp.float32)(x)\n",
    "        return x\n"
   ]
  },
  {
   "cell_type": "code",
   "execution_count": 23,
   "metadata": {},
   "outputs": [],
   "source": [
    "key = jax.random.PRNGKey(0)\n",
    "x = jnp.ones((5,4,4,3))\n",
    "\n",
    "# We instantiate the layer then call its init function to get initial variable collections.\n",
    "foo = Foo(filters=7, train=True)\n",
    "foo_vars = foo.init(key, x)\n",
    "params = foo_vars['params']\n",
    "batch_stats = foo_vars['batch_stats']"
   ]
  },
  {
   "cell_type": "code",
   "execution_count": 24,
   "metadata": {},
   "outputs": [],
   "source": [
    "state = train_state.TrainState.create(\n",
    "    apply_fn=foo.apply,\n",
    "    params=params,\n",
    "    batch_stats=batch_stats,\n",
    "    tx=optax.adam(1e-3),\n",
    "    best_params=params,\n",
    "    step_for_best_params=0,\n",
    "    metrics_for_best_params={},\n",
    "    train_metrics={},\n",
    ")\n"
   ]
  },
  {
   "cell_type": "code",
   "execution_count": 25,
   "metadata": {},
   "outputs": [],
   "source": [
    "state = flax.jax_utils.replicate(state)"
   ]
  },
  {
   "cell_type": "code",
   "execution_count": 32,
   "metadata": {},
   "outputs": [],
   "source": [
    "state = state.replace(\n",
    "    best_params=state.params,\n",
    "    metrics_for_best_params=M([1.0]),\n",
    ")"
   ]
  },
  {
   "cell_type": "code",
   "execution_count": null,
   "metadata": {},
   "outputs": [],
   "source": []
  }
 ],
 "metadata": {
  "kernelspec": {
   "display_name": "molnet",
   "language": "python",
   "name": "python3"
  },
  "language_info": {
   "codemirror_mode": {
    "name": "ipython",
    "version": 3
   },
   "file_extension": ".py",
   "mimetype": "text/x-python",
   "name": "python",
   "nbconvert_exporter": "python",
   "pygments_lexer": "ipython3",
   "version": "3.12.6"
  }
 },
 "nbformat": 4,
 "nbformat_minor": 2
}
