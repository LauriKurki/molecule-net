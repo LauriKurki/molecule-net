{
 "cells": [
  {
   "cell_type": "code",
   "execution_count": 1,
   "metadata": {},
   "outputs": [
    {
     "name": "stderr",
     "output_type": "stream",
     "text": [
      "2024-11-08 13:21:39.740680: W tensorflow/compiler/tf2tensorrt/utils/py_utils.cc:38] TF-TRT Warning: Could not find TensorRT\n"
     ]
    }
   ],
   "source": [
    "import os\n",
    "import pickle\n",
    "import yaml\n",
    "import functools\n",
    "\n",
    "import jax\n",
    "import jax.numpy as jnp\n",
    "import matplotlib.pyplot as plt\n",
    "\n",
    "import ml_collections\n",
    "from clu import checkpoint\n",
    "\n",
    "\n",
    "from molnet import utils, train_state\n",
    "from molnet.data import input_pipeline\n",
    "from molnet.models import create_model\n",
    "from configs import root_dirs\n",
    "from analyses import make_predictions\n",
    "\n",
    "from typing import Tuple"
   ]
  },
  {
   "cell_type": "code",
   "execution_count": 2,
   "metadata": {},
   "outputs": [],
   "source": [
    "workdir = \"/u/79/kurkil1/unix/work/molnet/local_runs/local\""
   ]
  },
  {
   "cell_type": "code",
   "execution_count": 3,
   "metadata": {},
   "outputs": [],
   "source": [
    "def load_from_workdir(\n",
    "    workdir: str,\n",
    "    return_attention: bool\n",
    "):\n",
    "    # Load the model config\n",
    "    with open(os.path.join(workdir, \"config.yaml\"), \"rt\") as f:\n",
    "        config = yaml.unsafe_load(f)\n",
    "    config = ml_collections.ConfigDict(config)\n",
    "    config.root_dir = root_dirs.get_root_dir()\n",
    "    config.model.return_attention_maps = return_attention\n",
    "\n",
    "    # Create the model\n",
    "    model = create_model(config.model)\n",
    "\n",
    "    checkpoint_dir = os.path.join(workdir, \"checkpoints\")\n",
    "    ckpt = checkpoint.Checkpoint(checkpoint_dir)\n",
    "\n",
    "    apply_fn = model.apply\n",
    "    tx = utils.create_optimizer(config)\n",
    "    restored_state = ckpt.restore(state=None)['state']\n",
    "\n",
    "    # Load the model state\n",
    "    state = train_state.EvaluationState.create(\n",
    "        apply_fn=apply_fn,\n",
    "        params=restored_state['params'],\n",
    "        batch_stats=restored_state['batch_stats'],\n",
    "        tx=tx,\n",
    "    )\n",
    "    state = jax.tree_util.tree_map(jnp.asarray, state)\n",
    "\n",
    "    return state, config"
   ]
  },
  {
   "cell_type": "code",
   "execution_count": 4,
   "metadata": {},
   "outputs": [
    {
     "name": "stderr",
     "output_type": "stream",
     "text": [
      "2024-11-08 13:21:44.016647: W tensorflow/core/common_runtime/gpu/gpu_device.cc:1960] Cannot dlopen some GPU libraries. Please make sure the missing libraries mentioned above are installed properly if you would like to use GPU. Follow the guide at https://www.tensorflow.org/install/gpu for how to download and setup the required libraries for your platform.\n",
      "Skipping registering GPU devices...\n"
     ]
    }
   ],
   "source": [
    "state, config = load_from_workdir(\n",
    "    workdir=workdir,\n",
    "    return_attention=True\n",
    ")"
   ]
  },
  {
   "cell_type": "code",
   "execution_count": 5,
   "metadata": {},
   "outputs": [
    {
     "name": "stderr",
     "output_type": "stream",
     "text": [
      "[libprotobuf ERROR external/com_google_protobuf/src/google/protobuf/text_format.cc:337] Error parsing text-format tensorflow.data.experimental.DistributedSnapshotMetadata: 1:1: Invalid control characters encountered in text.\n",
      "[libprotobuf ERROR external/com_google_protobuf/src/google/protobuf/text_format.cc:337] Error parsing text-format tensorflow.data.experimental.DistributedSnapshotMetadata: 1:3: Expected identifier, got: 16254440238521100737\n",
      "[libprotobuf ERROR external/com_google_protobuf/src/google/protobuf/text_format.cc:337] Error parsing text-format tensorflow.data.experimental.DistributedSnapshotMetadata: 1:1: Invalid control characters encountered in text.\n",
      "[libprotobuf ERROR external/com_google_protobuf/src/google/protobuf/text_format.cc:337] Error parsing text-format tensorflow.data.experimental.DistributedSnapshotMetadata: 1:3: Expected identifier, got: 9035647960369128274\n",
      "[libprotobuf ERROR external/com_google_protobuf/src/google/protobuf/text_format.cc:337] Error parsing text-format tensorflow.data.experimental.DistributedSnapshotMetadata: 1:1: Invalid control characters encountered in text.\n",
      "[libprotobuf ERROR external/com_google_protobuf/src/google/protobuf/text_format.cc:337] Error parsing text-format tensorflow.data.experimental.DistributedSnapshotMetadata: 1:3: Expected identifier, got: 9035647960369128274\n",
      "[libprotobuf ERROR external/com_google_protobuf/src/google/protobuf/text_format.cc:337] Error parsing text-format tensorflow.data.experimental.DistributedSnapshotMetadata: 1:1: Invalid control characters encountered in text.\n",
      "[libprotobuf ERROR external/com_google_protobuf/src/google/protobuf/text_format.cc:337] Error parsing text-format tensorflow.data.experimental.DistributedSnapshotMetadata: 1:3: Expected identifier, got: 9035647960369128274\n",
      "[libprotobuf ERROR external/com_google_protobuf/src/google/protobuf/text_format.cc:337] Error parsing text-format tensorflow.data.experimental.DistributedSnapshotMetadata: 1:1: Invalid control characters encountered in text.\n",
      "[libprotobuf ERROR external/com_google_protobuf/src/google/protobuf/text_format.cc:337] Error parsing text-format tensorflow.data.experimental.DistributedSnapshotMetadata: 1:3: Expected identifier, got: 9035647960369128274\n"
     ]
    }
   ],
   "source": [
    "rng = jax.random.PRNGKey(0)\n",
    "datarng, rng = jax.random.split(rng)\n",
    "ds = input_pipeline.get_datasets(\n",
    "    rng,\n",
    "    config\n",
    ")['val']\n",
    "\n",
    "batch = next(ds)"
   ]
  },
  {
   "cell_type": "code",
   "execution_count": 6,
   "metadata": {},
   "outputs": [],
   "source": [
    "@jax.jit\n",
    "def predict(\n",
    "    state,\n",
    "    batch,\n",
    "):\n",
    "    inputs, targets = batch['images'], batch['atom_map']\n",
    "    preds, attention = state.apply_fn(\n",
    "        {'params': state.params, 'batch_stats': state.batch_stats},\n",
    "        inputs,\n",
    "        training=False,\n",
    "    )\n",
    "    preds_z = preds.shape[-2]\n",
    "    target = targets[..., -preds_z:, :]\n",
    "    loss_by_image = jnp.mean(\n",
    "        (preds - target) ** 2,\n",
    "        axis=(1, 2, 3, 4),\n",
    "    )\n",
    "    return inputs, target, preds, attention, loss_by_image\n"
   ]
  },
  {
   "cell_type": "code",
   "execution_count": 7,
   "metadata": {},
   "outputs": [],
   "source": [
    "inputs, targets, preds, attention, loss_by_image = predict(\n",
    "    state,\n",
    "    batch,\n",
    ")"
   ]
  },
  {
   "cell_type": "code",
   "execution_count": 8,
   "metadata": {},
   "outputs": [
    {
     "name": "stdout",
     "output_type": "stream",
     "text": [
      "inputs: (8, 128, 128, 10, 1)\n",
      "targets: (8, 128, 128, 10, 5)\n",
      "preds: (8, 128, 128, 10, 5)\n",
      "loss_by_image: (8,)\n",
      "attention: (8, 8, 8, 10, 1)\n",
      "attention: (8, 16, 16, 10, 1)\n",
      "attention: (8, 32, 32, 10, 1)\n",
      "attention: (8, 64, 64, 10, 1)\n",
      "attention: (8, 128, 128, 10, 1)\n"
     ]
    }
   ],
   "source": [
    "print(f\"inputs: {inputs.shape}\")\n",
    "print(f\"targets: {targets.shape}\")\n",
    "print(f\"preds: {preds.shape}\")\n",
    "print(f\"loss_by_image: {loss_by_image.shape}\")\n",
    "for att in attention:\n",
    "    print(f\"attention: {att.shape}\")"
   ]
  },
  {
   "cell_type": "code",
   "execution_count": 10,
   "metadata": {},
   "outputs": [
    {
     "name": "stderr",
     "output_type": "stream",
     "text": [
      "[libprotobuf ERROR external/com_google_protobuf/src/google/protobuf/text_format.cc:337] Error parsing text-format tensorflow.data.experimental.DistributedSnapshotMetadata: 1:1: Invalid control characters encountered in text.\n",
      "[libprotobuf ERROR external/com_google_protobuf/src/google/protobuf/text_format.cc:337] Error parsing text-format tensorflow.data.experimental.DistributedSnapshotMetadata: 1:3: Expected identifier, got: 16254440238521100737\n",
      "[libprotobuf ERROR external/com_google_protobuf/src/google/protobuf/text_format.cc:337] Error parsing text-format tensorflow.data.experimental.DistributedSnapshotMetadata: 1:1: Invalid control characters encountered in text.\n",
      "[libprotobuf ERROR external/com_google_protobuf/src/google/protobuf/text_format.cc:337] Error parsing text-format tensorflow.data.experimental.DistributedSnapshotMetadata: 1:3: Expected identifier, got: 9035647960369128274\n",
      "[libprotobuf ERROR external/com_google_protobuf/src/google/protobuf/text_format.cc:337] Error parsing text-format tensorflow.data.experimental.DistributedSnapshotMetadata: 1:1: Invalid control characters encountered in text.\n",
      "[libprotobuf ERROR external/com_google_protobuf/src/google/protobuf/text_format.cc:337] Error parsing text-format tensorflow.data.experimental.DistributedSnapshotMetadata: 1:3: Expected identifier, got: 9035647960369128274\n",
      "[libprotobuf ERROR external/com_google_protobuf/src/google/protobuf/text_format.cc:337] Error parsing text-format tensorflow.data.experimental.DistributedSnapshotMetadata: 1:1: Invalid control characters encountered in text.\n",
      "[libprotobuf ERROR external/com_google_protobuf/src/google/protobuf/text_format.cc:337] Error parsing text-format tensorflow.data.experimental.DistributedSnapshotMetadata: 1:3: Expected identifier, got: 9035647960369128274\n",
      "[libprotobuf ERROR external/com_google_protobuf/src/google/protobuf/text_format.cc:337] Error parsing text-format tensorflow.data.experimental.DistributedSnapshotMetadata: 1:1: Invalid control characters encountered in text.\n",
      "[libprotobuf ERROR external/com_google_protobuf/src/google/protobuf/text_format.cc:337] Error parsing text-format tensorflow.data.experimental.DistributedSnapshotMetadata: 1:3: Expected identifier, got: 9035647960369128274\n"
     ]
    }
   ],
   "source": [
    "make_predictions.make_predictions(\n",
    "    workdir=workdir,\n",
    "    outputdir=os.path.join(workdir, \"analysis\"),\n",
    "    num_batches=1\n",
    ")"
   ]
  }
 ],
 "metadata": {
  "kernelspec": {
   "display_name": "molnet",
   "language": "python",
   "name": "python3"
  },
  "language_info": {
   "codemirror_mode": {
    "name": "ipython",
    "version": 3
   },
   "file_extension": ".py",
   "mimetype": "text/x-python",
   "name": "python",
   "nbconvert_exporter": "python",
   "pygments_lexer": "ipython3",
   "version": "3.10.12"
  }
 },
 "nbformat": 4,
 "nbformat_minor": 2
}
