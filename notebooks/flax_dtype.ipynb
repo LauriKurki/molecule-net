{
 "cells": [
  {
   "cell_type": "code",
   "execution_count": 1,
   "metadata": {},
   "outputs": [],
   "source": [
    "import jax\n",
    "import jax.numpy as jnp\n",
    "import flax.linen as nn"
   ]
  },
  {
   "cell_type": "code",
   "execution_count": 2,
   "metadata": {},
   "outputs": [],
   "source": [
    "linear = nn.Dense(features=10, dtype=jnp.bfloat16)"
   ]
  },
  {
   "cell_type": "code",
   "execution_count": 4,
   "metadata": {},
   "outputs": [
    {
     "name": "stdout",
     "output_type": "stream",
     "text": [
      "x.shape = (8, 100) -- x.dtype = float32\n",
      "y.shape = (8, 10) -- y.dtype = bfloat16\n"
     ]
    }
   ],
   "source": [
    "x = jnp.ones((8, 100))\n",
    "params = linear.init(jax.random.PRNGKey(0), x)\n",
    "\n",
    "y = linear.apply(params, x)\n",
    "\n",
    "print(f\"x.shape = {x.shape} -- x.dtype = {x.dtype}\")\n",
    "print(f\"y.shape = {y.shape} -- y.dtype = {y.dtype}\")\n"
   ]
  }
 ],
 "metadata": {
  "kernelspec": {
   "display_name": "tf-2.13",
   "language": "python",
   "name": "python3"
  },
  "language_info": {
   "codemirror_mode": {
    "name": "ipython",
    "version": 3
   },
   "file_extension": ".py",
   "mimetype": "text/x-python",
   "name": "python",
   "nbconvert_exporter": "python",
   "pygments_lexer": "ipython3",
   "version": "3.10.12"
  }
 },
 "nbformat": 4,
 "nbformat_minor": 2
}
