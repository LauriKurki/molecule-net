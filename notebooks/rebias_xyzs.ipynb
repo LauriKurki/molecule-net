{
 "cells": [
  {
   "cell_type": "code",
   "execution_count": 23,
   "metadata": {},
   "outputs": [],
   "source": [
    "import os\n",
    "import time\n",
    "\n",
    "from multiprocessing import Manager\n",
    "import tqdm\n",
    "import tqdm.contrib.concurrent\n",
    "\n",
    "import pickle\n",
    "import scipy\n",
    "import random\n",
    "import numpy as np\n",
    "from scipy.spatial import ConvexHull\n",
    "from scipy.spatial.distance import pdist, squareform\n",
    "\n",
    "import ase\n",
    "import ase.io\n",
    "from ase.visualize import view, plot\n",
    "import matplotlib.pyplot as plt\n",
    "\n",
    "from ppafm import io\n",
    "\n",
    "from typing import List, Tuple, Dict\n",
    "\n",
    "elements = ['H' , 'He',\n",
    "            'Li', 'Be',  'B',  'C',  'N',  'O',  'F', 'Ne', \n",
    "            'Na', 'Mg', 'Al', 'Si',  'P',  'S', 'Cl', 'Ar',\n",
    "             'K', 'Ca', \n",
    "            'Sc', 'Ti',  'V', 'Cr', 'Mn', 'Fe', 'Co', 'Ni', 'Cu', 'Zn',\n",
    "                        'Ga', 'Ge', 'As', 'Se', 'Br', 'Kr',\n",
    "            'Rb', 'Sr',\n",
    "             'Y', 'Zr', 'Nb', 'Mo', 'Tc', 'Ru', 'Rh', 'Pd', 'Ag', 'Cd',\n",
    "                        'In', 'Sn', 'Sb', 'Te',  'I', 'Xe'\n",
    "]"
   ]
  },
  {
   "cell_type": "code",
   "execution_count": 16,
   "metadata": {},
   "outputs": [],
   "source": [
    "def return_number_of_keys_in_dict(d: dict) -> int:\n",
    "    total = 0\n",
    "    for k in d:\n",
    "        total += len(d[k])\n",
    "    return total\n",
    "\n",
    "# https://stackoverflow.com/a/8453514\n",
    "def random_unit_vector():\n",
    "    vec = np.random.normal(size=3)\n",
    "    vec /= np.linalg.norm(vec)\n",
    "    return vec\n",
    "\n",
    "def plane_from_3points(points):\n",
    "    a = points[1] - points[0]\n",
    "    b = points[2] - points[0]\n",
    "    n = np.cross(a, b)\n",
    "    n /= np.linalg.norm(n)\n",
    "    d = -np.dot(n, points[0])\n",
    "    return np.array([n[0], n[1], n[2], d])\n",
    "\n",
    "def plane_from_2points(points):\n",
    "    p0 = points[0] + np.array([5, 5, 5])\n",
    "    a = points[0] - p0\n",
    "    b = points[1] - p0\n",
    "    n = np.cross(a, b)\n",
    "    n /= np.linalg.norm(n)\n",
    "    d = -np.dot(n, points[0])\n",
    "    return np.array([n[0], n[1], n[2], d])\n",
    "\n",
    "def zyz_rotation(alpha, beta, gamma):\n",
    "    '''\n",
    "    Extrinsic rotation of angle alpha around z, beta around y, and gamma around z.\n",
    "    '''\n",
    "\n",
    "    def R_y(x):\n",
    "        return [[np.cos(x), 0, np.sin(x)], [0, 1, 0], [-np.sin(x), 0, np.cos(x)]]\n",
    "    def R_z(x):\n",
    "        return [[np.cos(x), -np.sin(x), 0], [np.sin(x), np.cos(x), 0], [0, 0, 1]]\n",
    "\n",
    "    return np.dot(R_z(gamma), np.dot(R_y(beta), R_z(alpha)))\n",
    "\n",
    "def cart_to_sph(vec):\n",
    "    r = np.linalg.norm(vec)\n",
    "    phi = np.arctan2(vec[1], vec[0])\n",
    "    theta = np.arccos(vec[2]/r)\n",
    "    return r, phi, theta\n",
    "\n",
    "def get_convex_hull_eqs(xyz, angle_tolerance=5):\n",
    "    '''\n",
    "    Get coefficients for equations of planes of convex hull of point cloud. If plane normals\n",
    "    are within angle_tolerance, they are considered to be the same plane and the other plane\n",
    "    is ignored.\n",
    "    '''\n",
    "    xyz = xyz[:,:3]\n",
    "    hull = ConvexHull(xyz)\n",
    "    cosines = 1 - pdist(hull.equations[:,:3], 'cosine')\n",
    "    angles = np.arccos(cosines) / np.pi * 180\n",
    "    angles = squareform(angles)\n",
    "    bad_inds = []\n",
    "    for i, angle in enumerate(angles):\n",
    "        if i in bad_inds:\n",
    "            continue\n",
    "        inds = np.where(angle < 5)[0]\n",
    "        for ind in inds:\n",
    "            if ind == i:\n",
    "                continue\n",
    "            if ind not in bad_inds:\n",
    "                bad_inds.append(ind)\n",
    "    eqs = np.delete(hull.equations, bad_inds, axis=0)\n",
    "    return eqs, hull\n",
    "\n",
    "def find_planar_segments(xyz, eqs, dist_tol=0.2, num_atoms=10):\n",
    "    '''\n",
    "    Find planar segments on the surface of a molecule. A planar segment is\n",
    "    a surface plane that contains at least num_atoms atoms within dist_tol of\n",
    "    the plane.\n",
    "    '''\n",
    "    planar_seg_eqs = []\n",
    "    planar_seg_inds = []\n",
    "    for i, eq in enumerate(eqs):\n",
    "        eq = eq / np.linalg.norm(eq[:3])\n",
    "        dist = np.abs(np.dot(xyz[:,:3], eq[:3]) + eq[-1])\n",
    "        if len(np.where(dist <= dist_tol)[0]) >= num_atoms:\n",
    "            planar_seg_eqs.append(eq)\n",
    "            planar_seg_inds.append(i)\n",
    "    return planar_seg_eqs, planar_seg_inds\n",
    "\n",
    "def get_plane_elements(xyz, plane_eqs, dist_tol=0.5):\n",
    "    '''\n",
    "    Find and count the number of atoms of different elements in a molecule near planes.\n",
    "    '''\n",
    "    plane_elems = []\n",
    "    for eq in plane_eqs:\n",
    "        eq = eq / np.linalg.norm(eq[:3])\n",
    "        dist = np.abs(np.dot(xyz[:,:3], eq[:3]) + eq[-1])\n",
    "        plane_elems.append(set(xyz[dist <= dist_tol, -1].astype(int)))\n",
    "    return plane_elems\n",
    "\n",
    "def _convert_elemements(element_dict):\n",
    "    element_dict_ = {}\n",
    "    for i, e in enumerate(element_dict):\n",
    "        if isinstance(e, str):\n",
    "            element_dict_[elements.index(e)+1] = element_dict[e]\n",
    "        else:\n",
    "            element_dict_[e] = element_dict[e]\n",
    "    return element_dict_\n",
    "\n",
    "def choose_rotations_bias(\n",
    "    xyz,\n",
    "    flat,\n",
    "    plane_bias=None,\n",
    "    random_bias=None,\n",
    "    angle_tolerance=5,\n",
    "    elem_dist_tol=0.7,\n",
    "    flat_dist_tol=0.1,\n",
    "    flat_num_atoms=10\n",
    "):\n",
    "\n",
    "    n_vecs = []\n",
    "\n",
    "    if plane_bias is not None:\n",
    "        plane_bias = _convert_elemements(plane_bias)\n",
    "    if random_bias is not None:\n",
    "        random_bias = _convert_elemements(random_bias)\n",
    "    \n",
    "    if len(xyz) > 3:\n",
    "        try:\n",
    "            eqs, hull = get_convex_hull_eqs(xyz, angle_tolerance=angle_tolerance)\n",
    "            vertices = hull.vertices\n",
    "        except scipy.spatial.qhull.QhullError:\n",
    "            print(f'A problematic molecule encountered.')\n",
    "            return []\n",
    "    elif len(xyz) == 3:\n",
    "        eqs = plane_from_3points(xyz[:,:3])[None]\n",
    "        vertices = np.array([0, 1, 2])\n",
    "    elif len(xyz) == 2:\n",
    "        eqs = plane_from_2points(xyz[:,:3])[None]\n",
    "        vertices = np.array([0, 1])\n",
    "    else:\n",
    "        print(xyz)\n",
    "        raise RuntimeError('Molecule with less than two atoms.')\n",
    "    \n",
    "    if flat:\n",
    "        planar_seg_eqs, planar_seg_inds = find_planar_segments(xyz, eqs, dist_tol=flat_dist_tol, num_atoms=flat_num_atoms)\n",
    "        for eq in planar_seg_eqs:\n",
    "            n_vecs.append(eq[:3])\n",
    "        eqs = np.delete(eqs, planar_seg_inds, axis=0)\n",
    "\n",
    "    if plane_bias:\n",
    "        plane_elems = get_plane_elements(xyz, eqs, dist_tol=elem_dist_tol)\n",
    "        for eq, elems in zip(eqs, plane_elems):\n",
    "            for e, p in plane_bias.items():\n",
    "                if e in elems and (np.random.rand() <= p):\n",
    "                    n_vecs.append(eq[:3])\n",
    "                    break\n",
    "\n",
    "    if random_bias:\n",
    "        elems = set(xyz[vertices,-1].astype(int))\n",
    "        for e in random_bias:\n",
    "            if e not in elems:\n",
    "                continue\n",
    "            while random_bias[e] > 0:\n",
    "                if random_bias[e] < 1 and np.random.rand() > random_bias[e]:\n",
    "                    break\n",
    "                while True:\n",
    "                    n = random_unit_vector()\n",
    "                    _, phi, theta = cart_to_sph(n)\n",
    "                    new_xyz = xyz.copy()\n",
    "                    new_xyz[:,:3] = np.dot(new_xyz[:,:3], zyz_rotation(-phi, -theta, 0).T)\n",
    "                    eq = np.array([0, 0, 1, -new_xyz[:,2].max()])\n",
    "                    elems = get_plane_elements(new_xyz, [eq], dist_tol=0.7)\n",
    "                    if e in elems[0]:\n",
    "                        break\n",
    "                if len(n_vecs) > 0:\n",
    "                    n_vecs_np = np.stack(n_vecs, axis=0)\n",
    "                    angles = np.arccos(np.dot(n_vecs_np, n)/np.linalg.norm(n_vecs_np, axis=1)) / np.pi * 180\n",
    "                    if all(angles > angle_tolerance):\n",
    "                        n_vecs.append(n)\n",
    "                        random_bias[e] -= 1\n",
    "                else:\n",
    "                    n_vecs.append(n)\n",
    "                    random_bias[e] -= 1\n",
    "\n",
    "    rotations = []\n",
    "    for vec in n_vecs:\n",
    "        _, phi, theta = cart_to_sph(vec)\n",
    "        rotations.append(zyz_rotation(-phi, -theta, 0))\n",
    "\n",
    "    return rotations"
   ]
  },
  {
   "cell_type": "code",
   "execution_count": 17,
   "metadata": {},
   "outputs": [],
   "source": [
    "#database_path = '/Users/kurkil1/data/mol_database/'\n",
    "database_path = '/l/mol_database/'\n",
    "filenames = [\n",
    "    os.path.join(database_path, f)\n",
    "    for f in os.listdir(database_path)\n",
    "    if f.endswith('.xyz')\n",
    "]"
   ]
  },
  {
   "cell_type": "code",
   "execution_count": 18,
   "metadata": {},
   "outputs": [],
   "source": [
    "def rotate_xyz(xyz, R):\n",
    "    new_xyz = xyz.copy()\n",
    "    new_xyz[:,:3] = np.dot(new_xyz[:,:3], R.T)\n",
    "    return new_xyz"
   ]
  },
  {
   "cell_type": "code",
   "execution_count": 19,
   "metadata": {},
   "outputs": [],
   "source": [
    "def return_rotations(\n",
    "    filenames: List[str],\n",
    "    valid_elements: List[str],\n",
    "    flat: bool = True,\n",
    "    plane_bias = None,\n",
    "    random_bias = None,\n",
    "    angle_tolerance: float = 5,\n",
    "    elem_dist_tol: float = 0.7,\n",
    "    flat_dist_tol: float = 0.1,\n",
    "    flat_num_atoms: int = 10\n",
    ") -> List[np.ndarray]:\n",
    "    rotations = {}\n",
    "    for filename in tqdm.tqdm(filenames):\n",
    "        xyz, zs, qs, comment = io.loadXYZ(filename)\n",
    "        cid = comment.split()[-1]\n",
    "        if np.any(~np.isin(zs, valid_elements)):\n",
    "            continue\n",
    "        rots = choose_rotations_bias(\n",
    "            xyz,\n",
    "            flat=flat,\n",
    "            plane_bias=plane_bias,\n",
    "            random_bias=random_bias,\n",
    "            angle_tolerance=angle_tolerance,\n",
    "            elem_dist_tol=elem_dist_tol,\n",
    "            flat_dist_tol=flat_dist_tol,\n",
    "            flat_num_atoms=flat_num_atoms\n",
    "        )\n",
    "        if len(rots) == 0:\n",
    "            continue\n",
    "        rotations[cid] = rots\n",
    "    return rotations"
   ]
  },
  {
   "cell_type": "code",
   "execution_count": 104,
   "metadata": {},
   "outputs": [],
   "source": [
    "flat = True\n",
    "flat_dist_tol = 0.3\n",
    "elem_dist_tol = 0.3\n",
    "angle_tolerance = 5\n",
    "plane_bias = {\n",
    "    'H' : 0.0,\n",
    "    'C' : 0.0,\n",
    "    'N' : 0.1,\n",
    "    'O' : 0.0,\n",
    "    'F' : 1,\n",
    "    'Cl': 1,\n",
    "    'Br': 1,\n",
    "}\n",
    "random_bias = {\n",
    "    'H' : 0.1,\n",
    "    'C' : 0.0,\n",
    "    'N' : 0.4,\n",
    "    'O' : 0.1,\n",
    "    'F' : 1,\n",
    "    'Cl': 1,\n",
    "    'Br': 1,\n",
    "}\n",
    "flat_num_atoms = 6\n",
    "valid_elements = np.array([1, 6, 7, 8, 9, 17, 35])\n",
    "\n",
    "# Set random seeds for reproducibility\n",
    "random.seed(0)\n",
    "np.random.seed(0)"
   ]
  },
  {
   "cell_type": "code",
   "execution_count": 105,
   "metadata": {},
   "outputs": [
    {
     "name": "stderr",
     "output_type": "stream",
     "text": [
      " 33%|███▎      | 3269/10000 [00:01<00:03, 2217.22it/s]/tmp/ipykernel_3876005/2802535970.py:130: DeprecationWarning: Please import `QhullError` from the `scipy.spatial` namespace; the `scipy.spatial.qhull` namespace is deprecated and will be removed in SciPy 2.0.0.\n",
      "  except scipy.spatial.qhull.QhullError:\n",
      " 37%|███▋      | 3726/10000 [00:01<00:02, 2226.41it/s]"
     ]
    },
    {
     "name": "stdout",
     "output_type": "stream",
     "text": [
      "A problematic molecule encountered.\n"
     ]
    },
    {
     "name": "stderr",
     "output_type": "stream",
     "text": [
      " 49%|████▊     | 4855/10000 [00:02<00:02, 2185.68it/s]"
     ]
    },
    {
     "name": "stdout",
     "output_type": "stream",
     "text": [
      "A problematic molecule encountered.\n",
      "A problematic molecule encountered.\n"
     ]
    },
    {
     "name": "stderr",
     "output_type": "stream",
     "text": [
      " 64%|██████▍   | 6390/10000 [00:02<00:01, 2067.61it/s]"
     ]
    },
    {
     "name": "stdout",
     "output_type": "stream",
     "text": [
      "A problematic molecule encountered.\n"
     ]
    },
    {
     "name": "stderr",
     "output_type": "stream",
     "text": [
      " 79%|███████▉  | 7932/10000 [00:03<00:00, 2158.97it/s]"
     ]
    },
    {
     "name": "stdout",
     "output_type": "stream",
     "text": [
      "A problematic molecule encountered.\n"
     ]
    },
    {
     "name": "stderr",
     "output_type": "stream",
     "text": [
      " 93%|█████████▎| 9261/10000 [00:04<00:00, 2217.54it/s]"
     ]
    },
    {
     "name": "stdout",
     "output_type": "stream",
     "text": [
      "A problematic molecule encountered.\n"
     ]
    },
    {
     "name": "stderr",
     "output_type": "stream",
     "text": [
      "100%|██████████| 10000/10000 [00:04<00:00, 2167.62it/s]"
     ]
    },
    {
     "name": "stdout",
     "output_type": "stream",
     "text": [
      "A problematic molecule encountered.\n"
     ]
    },
    {
     "name": "stderr",
     "output_type": "stream",
     "text": [
      "\n"
     ]
    }
   ],
   "source": [
    "rotations = return_rotations(\n",
    "    filenames[:10000],\n",
    "    valid_elements,\n",
    "    flat=flat,\n",
    "    plane_bias=plane_bias,\n",
    "    #random_bias=random_bias,\n",
    "    angle_tolerance=angle_tolerance,\n",
    "    elem_dist_tol=elem_dist_tol,\n",
    "    flat_dist_tol=flat_dist_tol,\n",
    "    flat_num_atoms=flat_num_atoms\n",
    ")"
   ]
  },
  {
   "cell_type": "code",
   "execution_count": 106,
   "metadata": {},
   "outputs": [
    {
     "name": "stdout",
     "output_type": "stream",
     "text": [
      "14474\n"
     ]
    }
   ],
   "source": [
    "print(return_number_of_keys_in_dict(rotations))"
   ]
  },
  {
   "cell_type": "code",
   "execution_count": 107,
   "metadata": {},
   "outputs": [],
   "source": [
    "os.makedirs('rotations', exist_ok=True)\n",
    "for counter, (mol_id, rots) in enumerate(rotations.items()):\n",
    "    if len(rots) == 0:\n",
    "        continue\n",
    "    # Load molecule\n",
    "    filename = os.path.join(database_path, f'{mol_id}.xyz')\n",
    "    xyz, zs, qs, comment = io.loadXYZ(filename)\n",
    "    original_mol = ase.Atoms(numbers=zs, positions=xyz[:, :3])\n",
    "    original_mol.cell = np.eye(3) * 20\n",
    "    original_mol.cell[2, 2] = 5.0\n",
    "    original_mol.center()\n",
    "\n",
    "    # Plot the original molecule and the rotated molecules\n",
    "    fig = plt.figure(figsize=(10, 5))\n",
    "    sf1, sf2 = fig.subfigures(1, 2, width_ratios=[1, len(rots)], wspace=0.1)\n",
    "    \n",
    "    # Plot original molecule\n",
    "    axs = sf1.subplots(2, 1)\n",
    "    ax = axs[0]\n",
    "    plot.plot_atoms(original_mol, ax=ax, show_unit_cell=2)\n",
    "    ax.set_title('Original')\n",
    "\n",
    "    # Plot side-view of original molecule\n",
    "    ax = axs[1]\n",
    "    plot.plot_atoms(original_mol, ax=ax, show_unit_cell=2, rotation='-90x')\n",
    "\n",
    "    axs = sf2.subplots(2, len(rots))\n",
    "    if len(rots) == 1:\n",
    "        axs = axs[:, np.newaxis]\n",
    "    for i, R in enumerate(rots):\n",
    "        new_xyz = rotate_xyz(xyz, R)\n",
    "        \n",
    "        new_mol = ase.Atoms(numbers=zs, positions=new_xyz[:, :3])\n",
    "        new_mol.cell = np.eye(3) * 20\n",
    "        new_mol.cell[2, 2] = 5.0\n",
    "        new_mol.center()\n",
    "\n",
    "        # Plot from top-view\n",
    "        ax = axs[0,i]\n",
    "        plot.plot_atoms(new_mol, ax=ax, show_unit_cell=2)\n",
    "\n",
    "        # Plot from side-view\n",
    "        ax = axs[1,i]\n",
    "        plot.plot_atoms(new_mol, ax=ax, show_unit_cell=2, rotation='-90x')\n",
    "\n",
    "    plt.tight_layout()\n",
    "    plt.savefig(f'rotations/{counter}.png')\n",
    "    plt.close()\n",
    "\n",
    "    if counter > 100:\n",
    "        break\n"
   ]
  },
  {
   "cell_type": "code",
   "execution_count": 99,
   "metadata": {},
   "outputs": [],
   "source": [
    "def analyze_rotations(rotations: Dict[str, List[np.ndarray]]):\n",
    "    '''\n",
    "    Analyze the rotations to see the distributions of atom types near the top atom in rotated molecules.\n",
    "    '''\n",
    "\n",
    "    element_counts = {}\n",
    "\n",
    "    for mol_id, rots in rotations.items():\n",
    "        if len(rots) == 0:\n",
    "            continue\n",
    "        filename = os.path.join(database_path, f'{mol_id}.xyz')\n",
    "        xyz, zs, qs, comment = io.loadXYZ(filename)\n",
    "        for R in rots:\n",
    "            xyz = rotate_xyz(xyz, R)\n",
    "\n",
    "            # Filter out atoms that are too far from the top atom\n",
    "            mask = xyz[:,2] > xyz[:,2].max() - 1.0\n",
    "            xyz = xyz[mask]\n",
    "            zs = zs[mask]\n",
    "\n",
    "            for z in zs:\n",
    "                if z not in element_counts:\n",
    "                    element_counts[z] = 0\n",
    "                element_counts[z] += 1\n",
    "\n",
    "    # Divide each value by total number of counts\n",
    "    total = sum(element_counts.values())\n",
    "    for k in element_counts:\n",
    "        element_counts[k] /= total\n",
    "\n",
    "    return element_counts"
   ]
  },
  {
   "cell_type": "code",
   "execution_count": 100,
   "metadata": {},
   "outputs": [
    {
     "name": "stdout",
     "output_type": "stream",
     "text": [
      "H : 0.418\n",
      "C : 0.436\n",
      "N : 0.059\n",
      "O : 0.070\n",
      "F : 0.005\n",
      "Cl: 0.010\n",
      "Br: 0.002\n"
     ]
    }
   ],
   "source": [
    "new_counts = analyze_rotations(rotations)\n",
    "# Print the counts in the increasing order of keys\n",
    "for k in sorted(new_counts.keys()):\n",
    "    print(f'{elements[k-1]:2s}: {new_counts[k]:.3f}')"
   ]
  },
  {
   "cell_type": "code",
   "execution_count": 61,
   "metadata": {},
   "outputs": [
    {
     "name": "stdout",
     "output_type": "stream",
     "text": [
      "H : 0.391\n",
      "C : 0.458\n",
      "N : 0.063\n",
      "O : 0.070\n",
      "F : 0.005\n",
      "Cl: 0.010\n",
      "Br: 0.003\n"
     ]
    }
   ],
   "source": [
    "counts = analyze_rotations(rotations)\n",
    "# Print the counts in the increasing order of keys\n",
    "for k in sorted(counts.keys()):\n",
    "    print(f'{elements[k-1]:2s}: {counts[k]:.3f}')"
   ]
  }
 ],
 "metadata": {
  "kernelspec": {
   "display_name": "tf-2.13",
   "language": "python",
   "name": "python3"
  },
  "language_info": {
   "codemirror_mode": {
    "name": "ipython",
    "version": 3
   },
   "file_extension": ".py",
   "mimetype": "text/x-python",
   "name": "python",
   "nbconvert_exporter": "python",
   "pygments_lexer": "ipython3",
   "version": "3.10.12"
  }
 },
 "nbformat": 4,
 "nbformat_minor": 2
}
