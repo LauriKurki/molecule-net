{
 "cells": [
  {
   "cell_type": "code",
   "execution_count": 67,
   "metadata": {},
   "outputs": [],
   "source": [
    "import os\n",
    "os.environ['JAX_PLATFORM_NAME'] = 'cpu'\n",
    "os.environ['XLA_FLAGS'] = '--xla_force_host_platform_device_count=8'\n",
    "\n",
    "import jax\n",
    "import jax.numpy as jnp"
   ]
  },
  {
   "cell_type": "code",
   "execution_count": 68,
   "metadata": {},
   "outputs": [],
   "source": [
    "rng = jax.random.PRNGKey(0)\n",
    "x = jax.random.normal(rng, (128, 500, 500))"
   ]
  },
  {
   "cell_type": "code",
   "execution_count": 69,
   "metadata": {},
   "outputs": [],
   "source": [
    "@jax.pmap\n",
    "def f(x):\n",
    "    return jnp.sum(x)\n",
    "\n",
    "\n",
    "def f2(x):\n",
    "    return jnp.sum(x)"
   ]
  },
  {
   "cell_type": "code",
   "execution_count": 70,
   "metadata": {},
   "outputs": [
    {
     "name": "stdout",
     "output_type": "stream",
     "text": [
      "17.9 ms ± 502 μs per loop (mean ± std. dev. of 5 runs, 5 loops each)\n"
     ]
    }
   ],
   "source": [
    "x_split = x.reshape(8, 16, 500, 500)\n",
    "f(x_split)\n",
    "%timeit -n 5 -r 5 pmapped_result = f(x_split).block_until_ready()"
   ]
  },
  {
   "cell_type": "code",
   "execution_count": 71,
   "metadata": {},
   "outputs": [
    {
     "name": "stdout",
     "output_type": "stream",
     "text": [
      "17.2 ms ± 624 μs per loop (mean ± std. dev. of 5 runs, 5 loops each)\n"
     ]
    }
   ],
   "source": [
    "%timeit -n 5 -r 5 result = f2(x).block_until_ready()"
   ]
  },
  {
   "cell_type": "markdown",
   "metadata": {},
   "source": [
    "#### combine pmapped results in a function"
   ]
  },
  {
   "cell_type": "code",
   "execution_count": 82,
   "metadata": {},
   "outputs": [],
   "source": [
    "@jax.pmap\n",
    "def mean_over_spatial(x):\n",
    "    m = jnp.mean(x, axis=(1, 2))\n",
    "    return m"
   ]
  },
  {
   "cell_type": "code",
   "execution_count": 83,
   "metadata": {},
   "outputs": [
    {
     "name": "stdout",
     "output_type": "stream",
     "text": [
      "(8, 16, 10)\n"
     ]
    }
   ],
   "source": [
    "x = jax.random.normal(rng, (8, 16, 256, 256, 10))\n",
    "m = mean_over_spatial(x)\n",
    "\n",
    "print(m.shape)"
   ]
  },
  {
   "cell_type": "markdown",
   "metadata": {},
   "source": [
    "#### iterator shape"
   ]
  },
  {
   "cell_type": "code",
   "execution_count": 94,
   "metadata": {},
   "outputs": [],
   "source": [
    "def generator():\n",
    "    for i in range(1000):\n",
    "        yield jnp.ones((16, 256, 256, 1))"
   ]
  },
  {
   "cell_type": "code",
   "execution_count": 95,
   "metadata": {},
   "outputs": [],
   "source": [
    "def device_batch(batch_iterator):\n",
    "    num_devices = jax.local_device_count()\n",
    "    batch = []\n",
    "\n",
    "    for i, b in enumerate(batch_iterator):\n",
    "        if i % num_devices == num_devices - 1:\n",
    "            batch.append(b)\n",
    "            batch = jax.tree_util.tree_map(lambda *x: jnp.stack(x), *batch)\n",
    "            yield batch\n",
    "            batch = []\n",
    "        else:\n",
    "            batch.append(b)"
   ]
  },
  {
   "cell_type": "code",
   "execution_count": 96,
   "metadata": {},
   "outputs": [
    {
     "name": "stdout",
     "output_type": "stream",
     "text": [
      "(8, 16, 256, 256, 1)\n"
     ]
    }
   ],
   "source": [
    "batch = next(device_batch(generator()))\n",
    "\n",
    "print(batch.shape)"
   ]
  }
 ],
 "metadata": {
  "kernelspec": {
   "display_name": "tf-2.13",
   "language": "python",
   "name": "python3"
  },
  "language_info": {
   "codemirror_mode": {
    "name": "ipython",
    "version": 3
   },
   "file_extension": ".py",
   "mimetype": "text/x-python",
   "name": "python",
   "nbconvert_exporter": "python",
   "pygments_lexer": "ipython3",
   "version": "3.11.7"
  }
 },
 "nbformat": 4,
 "nbformat_minor": 2
}
