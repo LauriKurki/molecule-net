{
 "cells": [
  {
   "cell_type": "code",
   "execution_count": 2,
   "metadata": {},
   "outputs": [],
   "source": [
    "import torch\n",
    "from torch.utils.tensorboard import SummaryWriter\n",
    "import torchmetrics\n",
    "\n",
    "from molnet import torch_hooks"
   ]
  },
  {
   "cell_type": "code",
   "execution_count": 4,
   "metadata": {},
   "outputs": [],
   "source": [
    "for model in range(5):\n",
    "    metrics = torchmetrics.MeanSquaredError()\n",
    "    writer = SummaryWriter(log_dir=f\"logs/model_{model}\")\n",
    "    hook = torch_hooks.TrainMetricsLoggingHook(writer, prefix=\"train\")\n",
    "\n",
    "    for step in range(10):\n",
    "        for i in range(100):\n",
    "            x = torch.rand(10)\n",
    "            y = torch.rand(10)\n",
    "\n",
    "            metrics.update(x, y)\n",
    "\n",
    "        hook(metrics, step)"
   ]
  },
  {
   "cell_type": "code",
   "execution_count": null,
   "metadata": {},
   "outputs": [],
   "source": []
  }
 ],
 "metadata": {
  "kernelspec": {
   "display_name": "molnet-torch",
   "language": "python",
   "name": "python3"
  },
  "language_info": {
   "codemirror_mode": {
    "name": "ipython",
    "version": 3
   },
   "file_extension": ".py",
   "mimetype": "text/x-python",
   "name": "python",
   "nbconvert_exporter": "python",
   "pygments_lexer": "ipython3",
   "version": "3.10.12"
  }
 },
 "nbformat": 4,
 "nbformat_minor": 2
}
