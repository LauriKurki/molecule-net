{
 "cells": [
  {
   "cell_type": "code",
   "execution_count": 4,
   "metadata": {},
   "outputs": [],
   "source": [
    "import jax\n",
    "import numpy as np\n",
    "\n",
    "from torch import nn, optim\n",
    "from torchvision.transforms import ToTensor\n",
    "import torch.nn.functional as F\n",
    "\n",
    "import lightning as L\n",
    "\n",
    "from molnet.data import input_pipeline\n",
    "from configs.tests import attention_test\n",
    "from configs import root_dirs"
   ]
  },
  {
   "cell_type": "code",
   "execution_count": 2,
   "metadata": {},
   "outputs": [
    {
     "name": "stderr",
     "output_type": "stream",
     "text": [
      "[libprotobuf ERROR external/com_google_protobuf/src/google/protobuf/text_format.cc:337] Error parsing text-format tensorflow.data.experimental.DistributedSnapshotMetadata: 1:1: Invalid control characters encountered in text.\n",
      "[libprotobuf ERROR external/com_google_protobuf/src/google/protobuf/text_format.cc:337] Error parsing text-format tensorflow.data.experimental.DistributedSnapshotMetadata: 1:3: Expected identifier, got: 336318792119298919\n"
     ]
    }
   ],
   "source": [
    "config = attention_test.get_config()\n",
    "config.root_dir = root_dirs.get_root_dir()\n",
    "\n",
    "rng = jax.random.PRNGKey(0)\n",
    "datarng, rng = jax.random.split(rng)\n",
    "\n",
    "ds = input_pipeline.get_datasets(datarng, config)\n",
    "train_loader = ds['train']"
   ]
  },
  {
   "cell_type": "code",
   "execution_count": 5,
   "metadata": {},
   "outputs": [],
   "source": [
    "class ResBlock(nn.Module):\n",
    "    def __init__(self, in_channels, out_channels, kernel_size, stride):\n",
    "        super().__init__()\n",
    "        self.conv1 = nn.Conv3d(in_channels, out_channels, kernel_size, stride)\n",
    "        self.conv2 = nn.Conv3d(out_channels, out_channels, kernel_size, stride)\n",
    "        self.res_conv = nn.Conv3d(in_channels, out_channels, 1, stride)\n",
    "        self.bn1 = nn.BatchNorm3d(out_channels)\n",
    "        self.bn2 = nn.BatchNorm3d(out_channels)\n",
    "        self.relu = nn.ReLU()\n",
    "\n",
    "    def forward(self, x):\n",
    "        res = x\n",
    "\n",
    "        x = self.conv1(x)\n",
    "        x = self.bn1(x)\n",
    "        x = self.relu(x)\n",
    "\n",
    "        x = self.conv2(x)\n",
    "        x = self.bn2(x)\n",
    "\n",
    "        if x.shape != res.shape:\n",
    "            res = self.res_conv(res)\n",
    "\n",
    "        x = self.relu(x + res)\n",
    "        return x\n",
    "    \n",
    "class AttentionBlock(nn.Module):\n",
    "    def __init__(self, in_channels, query_channels, attention_channels, kernel_size, stride):\n",
    "        super().__init__()\n",
    "        self.x_conv = nn.Conv3d(in_channels, attention_channels, kernel_size, stride)\n",
    "        self.q_conv = nn.Conv3d(query_channels, attention_channels, kernel_size, stride)\n",
    "        self.a_conv = nn.Conv3d(attention_channels, 1, kernel_size, stride)\n",
    "\n",
    "        self.sigmoid = nn.Sigmoid()\n",
    "        self.relu = nn.ReLU()\n",
    "\n",
    "    def forward(self, x, q):\n",
    "        q = F.interpolate(q, size=x.size()[2:], mode=self.upsample_mode, align_corners=False)\n",
    "        \n",
    "        # convoluve query\n",
    "        q = self.relu(self.q_conv(q))\n",
    "\n",
    "        # convolve x and sum\n",
    "        a = self.relu(self.x_conv(x))\n",
    "        a = self.relu(x+q)\n",
    "\n",
    "        a = self.sigmoid(self.a_conv(a))\n",
    "        x = x * a\n",
    "\n",
    "        return x\n",
    "    \n",
    "class AttentionModel(nn.Module):\n",
    "    "
   ]
  },
  {
   "cell_type": "code",
   "execution_count": null,
   "metadata": {},
   "outputs": [],
   "source": []
  }
 ],
 "metadata": {
  "kernelspec": {
   "display_name": "escnn-molnet",
   "language": "python",
   "name": "python3"
  },
  "language_info": {
   "codemirror_mode": {
    "name": "ipython",
    "version": 3
   },
   "file_extension": ".py",
   "mimetype": "text/x-python",
   "name": "python",
   "nbconvert_exporter": "python",
   "pygments_lexer": "ipython3",
   "version": "3.10.12"
  }
 },
 "nbformat": 4,
 "nbformat_minor": 2
}
